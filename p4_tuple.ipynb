{
 "cells": [
  {
   "cell_type": "markdown",
   "metadata": {},
   "source": [
    "## Tuples\n",
    "```\n",
    "Tuples are used to store multiple items in a single variable.\n",
    "\n",
    "A tuple is a collection which is ordered and unchangeable. Tuples are written with round brackets.\n",
    "```"
   ]
  },
  {
   "cell_type": "code",
   "execution_count": null,
   "metadata": {
    "metadata": {}
   },
   "outputs": [],
   "source": [
    "thistuple = (\"apple\", \"banana\", \"cherry\", \"apple\", \"cherry\")\n",
    "print(thistuple)\n",
    "print(len(thistuple)) #Print the number of items in the tuple\n",
    "\n",
    "thistuple_new = tuple((\"apple\", \"banana\", \"cherry\")) # note the double round-brackets\n",
    "print(thistuple_new)\n"
   ]
  },
  {
   "cell_type": "markdown",
   "metadata": {},
   "source": [
    "```To create a tuple with only one item, you have to add a comma after the item, otherwise Python will not recognize it as a tuple.```\n"
   ]
  },
  {
   "cell_type": "code",
   "execution_count": null,
   "metadata": {},
   "outputs": [],
   "source": [
    "thistuple = (\"apple\",)\n",
    "print(type(thistuple))\n",
    "\n",
    "#NOT a tuple\n",
    "thistuple = (\"apple\")\n",
    "print(type(thistuple))"
   ]
  },
  {
   "cell_type": "markdown",
   "metadata": {},
   "source": [
    "#### Access Tuple Items"
   ]
  },
  {
   "cell_type": "code",
   "execution_count": null,
   "metadata": {},
   "outputs": [],
   "source": [
    "thistuple = (\"apple\", \"banana\", \"cherry\", \"orange\", \"kiwi\", \"melon\", \"mango\")\n",
    "print(thistuple[1])\n",
    "print(thistuple[-1])\n",
    "print(thistuple[1:5])\n",
    "print(thistuple[-7:-3])\n",
    "print(thistuple[:5])\n",
    "print(thistuple[5:])"
   ]
  },
  {
   "cell_type": "markdown",
   "metadata": {},
   "source": [
    "#### Change Tuple Values"
   ]
  },
  {
   "cell_type": "code",
   "execution_count": null,
   "metadata": {
    "metadata": {}
   },
   "outputs": [],
   "source": [
    "# Convert the tuple into a list to be able to change the value in it:\n",
    "x = (\"apple\", \"banana\", \"cherry\")\n",
    "y = list(x) #convert into a list:\n",
    "y[1] = \"kiwi\"\n",
    "y.append(\"orange\") #add \"orange\" in list mode\n",
    "z = (\"melon\",) #Create a new tuple with the value \"melon\",\n",
    "y += z #add that tuple with old tuple:\n",
    "y.remove(\"apple\") #remove \"apple\" from list\n",
    "print(y)\n",
    "x = tuple(y) #convert it back into a tuple\n",
    "\n",
    "#The del keyword can delete the tuple completely:\n",
    "# del x   \n",
    "print(x)"
   ]
  },
  {
   "cell_type": "markdown",
   "metadata": {},
   "source": [
    "#### Unpack Tuples\n",
    "\n",
    "> When we create a tuple, we normally assign values to it. This is called \"packing\" a tuple: \n",
    "\n",
    "```fruits = (\"apple\", \"banana\", \"cherry\")```\n",
    "\n",
    "> But, in Python, we are also allowed to extract the values back into variables. This is called \"unpacking\": \n",
    "\n",
    "```(green, yellow, red) = fruits```"
   ]
  },
  {
   "cell_type": "code",
   "execution_count": null,
   "metadata": {},
   "outputs": [],
   "source": [
    "#Unpacking a tuple:\n",
    "fruits = (\"apple\", \"banana\", \"cherry\")\n",
    "(green, yellow, red) = fruits\n",
    "\n",
    "print(green)\n",
    "print(yellow)\n",
    "print(red)\n",
    "\n",
    "#Using Asterisk[*] Assign the rest of the values as a list called \"red\":\n",
    "fruits = (\"apple\", \"banana\", \"cherry\", \"strawberry\", \"raspberry\")\n",
    "\n",
    "(green, yellow, *red) = fruits\n",
    "\n",
    "# print(green)\n",
    "# print(yellow)\n",
    "# print(red)\n",
    "\n",
    "(green, *tropic, red) = fruits\n",
    "\n",
    "print(green)\n",
    "print(tropic)\n",
    "print(red)"
   ]
  },
  {
   "cell_type": "markdown",
   "metadata": {},
   "source": [
    "#### Loop Tuples"
   ]
  },
  {
   "cell_type": "code",
   "execution_count": null,
   "metadata": {},
   "outputs": [],
   "source": [
    "fruits = (\"apple\", \"banana\", \"cherry\", \"strawberry\", \"raspberry\")\n",
    "for x in fruits:\n",
    "  print(x)\n",
    "\n",
    "for i in range(len(fruits)):\n",
    "  print(fruits[i])\n",
    "\n",
    "while i < len(fruits):\n",
    "  print(fruits[i])\n",
    "  i = i + 1"
   ]
  },
  {
   "cell_type": "markdown",
   "metadata": {},
   "source": [
    "#### Join Tuples"
   ]
  },
  {
   "cell_type": "code",
   "execution_count": null,
   "metadata": {},
   "outputs": [],
   "source": [
    "#Join two tuples:\n",
    "tuple1 = (\"a\", \"b\" , \"c\")\n",
    "tuple2 = (1, 2, 3)\n",
    "tuple3 = tuple1 + tuple2 \n",
    "print(tuple3)\n",
    "\n",
    "# Multiply the fruits tuple by 2:\n",
    "fruits = (\"apple\", \"banana\", \"cherry\")\n",
    "mytuple = fruits * 2\n",
    "print(mytuple)"
   ]
  }
 ],
 "metadata": {
  "kernelspec": {
   "display_name": "Python 3",
   "language": "python",
   "name": "python3"
  },
  "language_info": {
   "codemirror_mode": {
    "name": "ipython",
    "version": 3
   },
   "file_extension": ".py",
   "mimetype": "text/x-python",
   "name": "python",
   "nbconvert_exporter": "python",
   "pygments_lexer": "ipython3",
   "version": "3.10.12"
  }
 },
 "nbformat": 4,
 "nbformat_minor": 2
}
