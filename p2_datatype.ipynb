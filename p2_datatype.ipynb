{
 "cells": [
  {
   "cell_type": "markdown",
   "metadata": {},
   "source": [
    "# Data Types\n",
    "#### Built-in Data Types\n",
    "```\n",
    "Text Type:\tstr\n",
    "Numeric Types:\tint, float, complex\n",
    "Sequence Types:\tlist, tuple, range\n",
    "Mapping Type:\tdict\n",
    "Set Types:\tset, frozenset\n",
    "Boolean Type:\tbool\n",
    "Binary Types:\tbytes, bytearray, memoryview\n",
    "None Type:\tNoneType\n",
    "```\n",
    "#### Setting the Data Type\n",
    "\n"
   ]
  },
  {
   "cell_type": "code",
   "execution_count": null,
   "metadata": {
    "metadata": {}
   },
   "outputs": [],
   "source": [
    "x = \"Hello World\"\t#str\t\n",
    "# x = 20\t#int\t\n",
    "# x = 20.5\t#float\t\n",
    "# x = 1j\t#complex\t\n",
    "# x = [\"apple\", \"banana\", \"cherry\"]\t#list\t\n",
    "# x = (\"apple\", \"banana\", \"cherry\")\t#tuple\t\n",
    "# x = range(6)\t#range\t\n",
    "# x = {\"name\" : \"John\", \"age\" : 36}\t#dict\t\n",
    "# x = {\"apple\", \"banana\", \"cherry\"}\t#set\t\n",
    "# x = frozenset({\"apple\", \"banana\", \"cherry\"})\t#frozenset\t\n",
    "# x = True\t#bool\t\n",
    "# x = b\"Hello\"\t#bytes\t\n",
    "# x = bytearray(5)\t#bytearray\t\n",
    "# x = memoryview(bytes(5))\t#memoryview\t\n",
    "# x = None\t#NoneType\n",
    "print(type(x))"
   ]
  },
  {
   "cell_type": "markdown",
   "metadata": {},
   "source": [
    "#### Setting the Specific Data Type"
   ]
  },
  {
   "cell_type": "code",
   "execution_count": null,
   "metadata": {},
   "outputs": [],
   "source": [
    "x = str(\"Hello World\")\t\n",
    "x = int(20)\t\t\n",
    "# x = float(20.5)\t\t\n",
    "# x = complex(1j)\t\t\n",
    "# x = list((\"apple\", \"banana\", \"cherry\"))\t\t\n",
    "# x = tuple((\"apple\", \"banana\", \"cherry\"))\t\t\n",
    "# x = range(6)\t\t\n",
    "# x = dict(name=\"John\", age=36)\t\t\n",
    "# x = set((\"apple\", \"banana\", \"cherry\"))\t\t\n",
    "# x = frozenset((\"apple\", \"banana\", \"cherry\"))\t\t\n",
    "# x = bool(5)\t\t\n",
    "# x = bytes(5)\t\t\n",
    "# x = bytearray(5)\t\n",
    "# x = memoryview(bytes(5))\t\n",
    "print(type(x))"
   ]
  },
  {
   "cell_type": "markdown",
   "metadata": {},
   "source": [
    "## Numbers\n",
    "``` Note: We cannot convert complex numbers into another number type.```"
   ]
  },
  {
   "cell_type": "code",
   "execution_count": 3,
   "metadata": {
    "metadata": {}
   },
   "outputs": [
    {
     "name": "stdout",
     "output_type": "stream",
     "text": [
      "<class 'int'> <class 'int'> <class 'int'>\n",
      "<class 'float'> <class 'float'> <class 'float'>\n",
      "<class 'float'> <class 'float'> <class 'float'>\n",
      "<class 'complex'> <class 'complex'> <class 'complex'>\n"
     ]
    }
   ],
   "source": [
    "x = 1\n",
    "y = 35656222554887711\n",
    "z = -3255522\n",
    "print(type(x), type(y), type(z))\n",
    "\n",
    "x = 1.10\n",
    "y = 1.0\n",
    "z = -35.59\n",
    "print(type(x), type(y), type(z))\n",
    "\n",
    "x = 35e3\n",
    "y = 12E4\n",
    "z = -87.7e100\n",
    "print(type(x), type(y), type(z))\n",
    "\n",
    "x = 3+5j\n",
    "y = 5j\n",
    "z = -5j\n",
    "print(type(x), type(y), type(z))"
   ]
  },
  {
   "cell_type": "markdown",
   "metadata": {},
   "source": [
    "#### Random Number"
   ]
  },
  {
   "cell_type": "code",
   "execution_count": null,
   "metadata": {
    "metadata": {}
   },
   "outputs": [],
   "source": [
    "import random # random module\n",
    "\n",
    "print(random.random()) # between 0-1 number only\n",
    "print(random.randrange(1, 1000000000)) # int number only\n",
    "print(random.uniform(1, 10)) # float number only"
   ]
  },
  {
   "cell_type": "markdown",
   "metadata": {},
   "source": [
    "## Strings\n"
   ]
  },
  {
   "cell_type": "code",
   "execution_count": null,
   "metadata": {},
   "outputs": [],
   "source": [
    "a = '''Lorem ipsum dolor sit amet,\n",
    "consectetur adipiscing elit,\n",
    "sed do eiusmod tempor incididunt\n",
    "ut labore et dolore magna aliqua.'''\n",
    "print(a)\n"
   ]
  },
  {
   "cell_type": "markdown",
   "metadata": {},
   "source": [
    "#### Strings are Arrays"
   ]
  },
  {
   "cell_type": "code",
   "execution_count": null,
   "metadata": {},
   "outputs": [],
   "source": [
    "a = \"Hello, World!\"\n",
    "print(a[1])"
   ]
  },
  {
   "cell_type": "markdown",
   "metadata": {},
   "source": [
    "#### Looping Through a String"
   ]
  },
  {
   "cell_type": "code",
   "execution_count": null,
   "metadata": {},
   "outputs": [],
   "source": [
    "for x in a:\n",
    "  print(x)\n",
    "\n",
    "print(len(a)) #String Length"
   ]
  },
  {
   "cell_type": "markdown",
   "metadata": {},
   "source": [
    "#### Check String\n"
   ]
  },
  {
   "cell_type": "code",
   "execution_count": null,
   "metadata": {},
   "outputs": [],
   "source": [
    "txt = \"The best things in life are free!\"\n",
    "print(\"free\" in txt)\n",
    "\n",
    "txt = \"The best things in life are free!\"\n",
    "print(\"expensive\" not in txt)"
   ]
  },
  {
   "cell_type": "markdown",
   "metadata": {},
   "source": [
    "#### Slicing Strings"
   ]
  },
  {
   "cell_type": "code",
   "execution_count": null,
   "metadata": {},
   "outputs": [],
   "source": [
    "b = \"Hello, World!\"\n",
    "print(b[2:5]) # start point index - 2 &  end point index - 5  \n",
    "print(b[:5]) # start point index - 0 &  end point index - 5  \n",
    "print(b[2:]) # start point index - 2 &  end point index - end\n",
    "print(b[-5:-2]) # From: \"o\" in \"World!\" (position -5) - To, but not included: \"d\" in \"World!\" (position -2):\n"
   ]
  },
  {
   "cell_type": "markdown",
   "metadata": {},
   "source": [
    "#### Modify Strings"
   ]
  },
  {
   "cell_type": "code",
   "execution_count": null,
   "metadata": {},
   "outputs": [],
   "source": [
    "a = \"  Hello, World!  \"\n",
    "print(a.upper())\n",
    "print(a.lower())\n",
    "print(a.strip()) #removes any whitespace from the beginning or the end"
   ]
  },
  {
   "cell_type": "markdown",
   "metadata": {},
   "source": [
    "#### Replace Strings"
   ]
  },
  {
   "cell_type": "code",
   "execution_count": null,
   "metadata": {},
   "outputs": [],
   "source": [
    "a = \"Hello, World!\"\n",
    "print(a.replace(\"H\", \"J\"))"
   ]
  },
  {
   "cell_type": "markdown",
   "metadata": {},
   "source": [
    "#### Split Strings"
   ]
  },
  {
   "cell_type": "code",
   "execution_count": null,
   "metadata": {},
   "outputs": [],
   "source": [
    "print(a.split(\",\")) # returns ['Hello', ' World!']"
   ]
  },
  {
   "cell_type": "markdown",
   "metadata": {},
   "source": [
    "#### String Concatenation"
   ]
  },
  {
   "cell_type": "code",
   "execution_count": null,
   "metadata": {},
   "outputs": [],
   "source": [
    "a = \"Hello\"\n",
    "b = \"World\"\n",
    "c = a + b\n",
    "print(c)"
   ]
  },
  {
   "cell_type": "markdown",
   "metadata": {},
   "source": [
    "#### Format - Strings [f-strings]"
   ]
  },
  {
   "cell_type": "code",
   "execution_count": null,
   "metadata": {},
   "outputs": [],
   "source": [
    "price = 36\n",
    "txt = f\"My name is John, I am {price}\"    #A placeholder can contain variables, operations, functions, and modifiers to format the value.\n",
    "print(txt)\n",
    "txt2 = f\"The price is {price:.2f} dollars\"  #A modifier is included by adding a colon : followed by a legal formatting type, like .2f which means fixed point number with 2 decimals\n",
    "print(txt2)\n",
    "txt3 = f\"The price is {price * 3} dollars\" \n",
    "print(txt3)"
   ]
  },
  {
   "cell_type": "markdown",
   "metadata": {},
   "source": [
    "## Booleans"
   ]
  },
  {
   "cell_type": "code",
   "execution_count": null,
   "metadata": {},
   "outputs": [],
   "source": [
    "print(10 > 9, 10 == 9, 10 < 9)\n",
    "print(bool(-1), bool(10.9), bool(\"Hello\"))\n",
    "print(bool(False), bool(None), bool(0), bool(\"\"), bool(()), bool([]), bool({}))\n",
    "x = 200\n",
    "print(isinstance(x, int))"
   ]
  },
  {
   "cell_type": "markdown",
   "metadata": {},
   "source": [
    "## Operators\n"
   ]
  },
  {
   "cell_type": "code",
   "execution_count": null,
   "metadata": {},
   "outputs": [
    {
     "name": "stdout",
     "output_type": "stream",
     "text": [
      "8\n"
     ]
    }
   ],
   "source": [
    "x = 5\t\n",
    "x += 3 #8\n",
    "# x -= 3 #2\t\n",
    "# x *= 3 #15\t\n",
    "# x /= 3\t#1.67\n",
    "# x %= 3\t#1.67\n",
    "# x //= 3\t#1\t\n",
    "# x **= 3\t#125\t\n",
    "# x &= 3\t#1\n",
    "# x |= 3\t#7\n",
    "# x ^= 3\t#6\n",
    "# x >>= 3\t\t#0\n",
    "# x <<= 3\t#40\n",
    "print(x)"
   ]
  }
 ],
 "metadata": {
  "kernelspec": {
   "display_name": "Python 3",
   "language": "python",
   "name": "python3"
  },
  "language_info": {
   "codemirror_mode": {
    "name": "ipython",
    "version": 3
   },
   "file_extension": ".py",
   "mimetype": "text/x-python",
   "name": "python",
   "nbconvert_exporter": "python",
   "pygments_lexer": "ipython3",
   "version": "3.10.12"
  }
 },
 "nbformat": 4,
 "nbformat_minor": 2
}
