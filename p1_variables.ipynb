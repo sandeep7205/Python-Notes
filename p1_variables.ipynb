{
 "cells": [
  {
   "cell_type": "markdown",
   "metadata": {},
   "source": [
    "## Variables\n",
    "##### Creating Variables, Casting a Variable & Get the Type of a Variable\n"
   ]
  },
  {
   "cell_type": "code",
   "execution_count": null,
   "metadata": {
    "metadata": {}
   },
   "outputs": [],
   "source": [
    "# x = 5\n",
    "x = 5.78\n",
    "# x = \"SKM\"\n",
    "print(\"x is [\", x,\"] & it's type is [\", type(x), \"]\")\n",
    "\n",
    "y = str(x)\n",
    "# y = int(x)\n",
    "# y = float(x)\n",
    "print(\"y is [\", y,\"] & it's type is [\", type(y), \"]\")"
   ]
  },
  {
   "cell_type": "markdown",
   "metadata": {},
   "source": [
    "#### Legal variable names:\n",
    "```\n",
    "myvar = \"John\"\n",
    "my_var = \"John\"\n",
    "_my_var = \"John\"\n",
    "myVar = \"John\"\n",
    "MYVAR = \"John\"\n",
    "myvar2 = \"John\"\n",
    "```\n",
    "#### Multi Words Variable Names\n",
    "```\n",
    "Camel Case ->  myVariableName = \"John\"\n",
    "Pascal Case -> MyVariableName = \"John\"\n",
    "Snake Case ->  my_variable_name = \"John\"\n",
    "```\n",
    "#### Assign Multiple Values\n",
    "```\n",
    "x, y, z = \"Orange\", \"Banana\", \"Cherry\"\n",
    "```\n",
    "#### One Value to Multiple Variables\n",
    "```\n",
    "x = y = z = \"Orange\"\n",
    "```\n",
    "#### Unpack a Collection"
   ]
  },
  {
   "cell_type": "code",
   "execution_count": null,
   "metadata": {
    "metadata": {}
   },
   "outputs": [],
   "source": [
    "fruits = [\"apple\", \"banana\", \"cherry\"]\n",
    "x, y, z = fruits\n",
    "print(x, y, z)\n",
    "\n",
    "x = \"Python \"\n",
    "y = \"is \"\n",
    "z = \"awesome\"\n",
    "print(x + y + z)"
   ]
  },
  {
   "cell_type": "markdown",
   "metadata": {},
   "source": [
    "#### Output Variables"
   ]
  },
  {
   "cell_type": "code",
   "execution_count": null,
   "metadata": {
    "metadata": {}
   },
   "outputs": [],
   "source": [
    "print(3 ,\"7\") # 3 7\n",
    "print(3 + 7) #10\n",
    "# print(3 + \"7\") #TypeError: unsupported operand type(s) for +: 'int' and 'str'"
   ]
  },
  {
   "cell_type": "markdown",
   "metadata": {},
   "source": [
    "#### Global Variables"
   ]
  },
  {
   "cell_type": "code",
   "execution_count": null,
   "metadata": {
    "metadata": {}
   },
   "outputs": [],
   "source": [
    "x = \"awesome\" #global variables\n",
    "def myfunc():\n",
    "#   global x\n",
    "  x = \"fantastic\" # local becomes global variables\n",
    "  print(\"Python is \" + x)\n",
    "myfunc()\n",
    "print(\"Python is \" + x)"
   ]
  }
 ],
 "metadata": {
  "kernelspec": {
   "display_name": "Python 3",
   "language": "python",
   "name": "python3"
  },
  "language_info": {
   "codemirror_mode": {
    "name": "ipython",
    "version": 3
   },
   "file_extension": ".py",
   "mimetype": "text/x-python",
   "name": "python",
   "nbconvert_exporter": "python",
   "pygments_lexer": "ipython3",
   "version": "3.10.12"
  }
 },
 "nbformat": 4,
 "nbformat_minor": 2
}
