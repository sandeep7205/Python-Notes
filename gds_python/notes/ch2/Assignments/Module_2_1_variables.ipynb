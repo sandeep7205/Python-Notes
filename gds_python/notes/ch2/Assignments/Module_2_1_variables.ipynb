{
 "cells": [
  {
   "cell_type": "markdown",
   "metadata": {},
   "source": [
    "Question 1: Variable Declaration\n",
    "\n",
    "Declare a variable named days_in_week and assign it the number of days in a week. Print the variable.\n",
    "\n",
    "Hint: Remember, a week typically consists of 7 days."
   ]
  },
  {
   "cell_type": "code",
   "execution_count": 9,
   "metadata": {},
   "outputs": [
    {
     "name": "stdout",
     "output_type": "stream",
     "text": [
      "7\n"
     ]
    }
   ],
   "source": [
    "days_in_week = 7\n",
    "print(days_in_week)"
   ]
  },
  {
   "cell_type": "markdown",
   "metadata": {},
   "source": [
    "Question 2: Arithmetic Operations\n",
    "\n",
    "Given two variables a = 15 and b = 4, calculate and print their sum, difference, product, and quotient.\n",
    "\n",
    "Hint: Use standard arithmetic operators (+, -, *, /) for these operations.\n"
   ]
  },
  {
   "cell_type": "code",
   "execution_count": 10,
   "metadata": {},
   "outputs": [],
   "source": [
    "a = 15\n",
    "b = 4"
   ]
  },
  {
   "cell_type": "code",
   "execution_count": 11,
   "metadata": {},
   "outputs": [
    {
     "name": "stdout",
     "output_type": "stream",
     "text": [
      "Sum: 19\n",
      "Subtraction/difference: 11\n",
      "Product: 60\n",
      "Division/Quotient: 3.75\n"
     ]
    }
   ],
   "source": [
    "# Addition\n",
    "sum = a + b\n",
    "print(\"Sum:\", sum)\n",
    "\n",
    "# Subtraction\n",
    "difference = a - b\n",
    "print(\"Subtraction/difference:\", difference)\n",
    "\n",
    "# Multiplication\n",
    "product = a * b\n",
    "print(\"Product:\", product)\n",
    "\n",
    "# Division\n",
    "quotient = a / b\n",
    "print(\"Division/Quotient:\", quotient)"
   ]
  },
  {
   "cell_type": "markdown",
   "metadata": {},
   "source": [
    "Question 3: Type Conversion\n",
    "\n",
    "Convert the string \"123\" to an integer and assign it to a variable named number. Print the type of number to confirm the conversion.\n",
    "\n",
    "Hint: Use the built-in function int() for converting a string to an integer.\n"
   ]
  },
  {
   "cell_type": "code",
   "execution_count": 12,
   "metadata": {},
   "outputs": [
    {
     "name": "stdout",
     "output_type": "stream",
     "text": [
      "Type:  <class 'int'>\n"
     ]
    }
   ],
   "source": [
    "string = \"123\"\n",
    "number = int(string)\n",
    "print(\"Type: \", type(number))"
   ]
  },
  {
   "cell_type": "markdown",
   "metadata": {},
   "source": [
    "Question 4: String Concatenation\n",
    "\n",
    "Concatenate the following two strings: first_name and last_name into a full name and print the result. Assume the variables have already been defined.\n",
    "\n",
    "Hint: Use the + operator or the format() method to concatenate strings\n"
   ]
  },
  {
   "cell_type": "code",
   "execution_count": 8,
   "metadata": {},
   "outputs": [],
   "source": [
    "first_name = \"Sandeep\"\n",
    "last_name = \"Mishra\""
   ]
  },
  {
   "cell_type": "code",
   "execution_count": 23,
   "metadata": {},
   "outputs": [
    {
     "name": "stdout",
     "output_type": "stream",
     "text": [
      "Full Name1:  Sandeep Mishra\n",
      "Full Name2:  Sandeep Mishra\n",
      "Full Name3:  Sandeep Mishra\n",
      "Full Name4:  Sandeep Mishra\n",
      "Full Name5:  Sandeep Mishra\n"
     ]
    }
   ],
   "source": [
    "# String Concatenation Using “,” (comma)\n",
    "print(\"Full Name1: \", first_name, last_name)\n",
    "\n",
    "# String Concatenation Using + operator \n",
    "full_name = first_name + \" \" + last_name\n",
    "print(\"Full Name2: \", full_name)\n",
    "\n",
    "# String Concatenation using format() function - The curly braces {} are used to set the position of strings.\n",
    "format_full_name = \"{} {}\".format(first_name, last_name)\n",
    "print(\"Full Name3: \", format_full_name)\n",
    "\n",
    "# String Concatenation using join() Method\n",
    "join_full_name = \" \".join([first_name, last_name])\n",
    "print(\"Full Name4: \", join_full_name)\n",
    "\n",
    "# String Concatenation Using % operator \n",
    "print(\"Full Name5: \", \"% s % s\" % (first_name, last_name))"
   ]
  },
  {
   "cell_type": "markdown",
   "metadata": {},
   "source": [
    "Question 5: Updating Variables\n",
    "\n",
    "Start with the variable score = 0. Add 5 to score, then multiply score by 3, and subtract 2. Print the final score.\n",
    "\n",
    "Hint: You can update a variable using operations like +=, *=, and -=.\n"
   ]
  },
  {
   "cell_type": "code",
   "execution_count": 26,
   "metadata": {},
   "outputs": [
    {
     "name": "stdout",
     "output_type": "stream",
     "text": [
      "Original value =  0\n",
      "after Add 5 =  5\n",
      "after Multiply 3 =  15\n",
      "after Substract 2 =  13\n"
     ]
    }
   ],
   "source": [
    "score = 0\n",
    "print(\"Original value = \", score)\n",
    "# Add 5\n",
    "score += 5\n",
    "print(\"after Add 5 = \", score)\n",
    "# Multiply 3\n",
    "score *= 3\n",
    "print(\"after Multiply 3 = \", score)\n",
    "# Substract 2\n",
    "score -= 2\n",
    "print(\"after Substract 2 = \", score)"
   ]
  }
 ],
 "metadata": {
  "kernelspec": {
   "display_name": "Python 3",
   "language": "python",
   "name": "python3"
  },
  "language_info": {
   "codemirror_mode": {
    "name": "ipython",
    "version": 3
   },
   "file_extension": ".py",
   "mimetype": "text/x-python",
   "name": "python",
   "nbconvert_exporter": "python",
   "pygments_lexer": "ipython3",
   "version": "3.13.0"
  }
 },
 "nbformat": 4,
 "nbformat_minor": 2
}
