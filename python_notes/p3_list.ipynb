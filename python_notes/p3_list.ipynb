{
 "cells": [
  {
   "cell_type": "markdown",
   "metadata": {},
   "source": [
    "## Lists\n"
   ]
  },
  {
   "cell_type": "code",
   "execution_count": null,
   "metadata": {
    "metadata": {}
   },
   "outputs": [],
   "source": [
    "thislist = [\"apple\", \"cherry\", \"apple\", True, 2, 3.55, 20j]\n",
    "print(thislist)\n",
    "print(len(thislist))\n",
    "print(type(thislist))\n",
    "print(thislist[4])\n",
    "print(thislist[-3]) #Negative Indexing\n",
    "print(thislist[2:5]) #Range of Indexes - The search will start at index 2 (included) and end at index 5 (not included).\n",
    "print(thislist[:4]) #index 4 (not included)\n",
    "print(thislist[2:])\n",
    "print(thislist[-4:-1]) #index -1 (not included)"
   ]
  },
  {
   "cell_type": "code",
   "execution_count": null,
   "metadata": {
    "metadata": {}
   },
   "outputs": [],
   "source": [
    "thislist = list((\"apple\", \"banana\", \"cherry\")) # note the double round-brackets\n",
    "\n",
    "if \"apple\" in thislist: #check if item exists\n",
    "  print(\"Yes, 'apple' is in the fruits list\")\n",
    "\n",
    "thislist[2] = \"blackcurrant\" #Change Item Value\n",
    "print(thislist)\n",
    "\n",
    "thislist[1:3] = [\"blackcurrant\", \"watermelon\"]\n",
    "print(thislist)\n",
    "\n",
    "thislist[1:2] = [\"34\", \"45\"]\n",
    "print(thislist)\n",
    "\n",
    "thislist.insert(5, 99.99) #insert a list item at a specified index\n",
    "print(thislist)\n",
    "\n",
    "thislist.append(\"orange\") #add an item to the end of the list\n",
    "print(thislist)\n",
    "\n",
    "tropical = list((\"mango\", False)) \n",
    "thislist.extend(tropical)  #append elements from another list to the current list\n",
    "print(thislist)\n",
    "\n",
    "thistuple = (24e3j, \"mango\")\n",
    "thislist.extend(thistuple) #Add elements of a tuple to a list\n",
    "print(thislist)\n",
    "\n",
    "\n",
    "thislist.remove(\"mango\") #Remove the first occurance of \"mango\"\n",
    "print(thislist)\n",
    "\n",
    "thislist.pop() #Remove the last item\n",
    "print(thislist)\n",
    "\n",
    "thislist.pop(1) #Remove the mentioned index item\n",
    "print(thislist)\n",
    "\n",
    "del thislist[0] #Remove the mentioned index item\n",
    "print(thislist)\n",
    "\n",
    "# thislist.clear() #Clear the list content\n",
    "# print(thislist)\n",
    "\n",
    "# del thislist #Delete the entire list:\n",
    "# print(thislist)"
   ]
  },
  {
   "cell_type": "markdown",
   "metadata": {},
   "source": [
    "#### For/While Loop Through a List"
   ]
  },
  {
   "cell_type": "code",
   "execution_count": null,
   "metadata": {},
   "outputs": [],
   "source": [
    "thislist = [\"apple\", \"banana\", \"cherry\"]\n",
    "\n",
    "# for Loop\n",
    "for x in thislist:\n",
    "  print(x)\n",
    "\n",
    "for i in range(len(thislist)):\n",
    "  print(thislist[i])\n",
    "\n",
    "# While Loop\n",
    "i = 0\n",
    "while i < len(thislist):\n",
    "  print(thislist[i])\n",
    "  i = i + 1"
   ]
  },
  {
   "cell_type": "markdown",
   "metadata": {},
   "source": [
    "#### Looping Using List Comprehension  \n",
    "```\n",
    "[List comprehension offers a shorter syntax when you want to create a new list based on the values of an existing list.]\n",
    "```\n",
    "> Syntax  -  newlist = [expression for item in iterable if condition == True]"
   ]
  },
  {
   "cell_type": "code",
   "execution_count": null,
   "metadata": {
    "metadata": {}
   },
   "outputs": [],
   "source": [
    "fruits = [\"apple\", \"banana\", \"cherry\", \"kiwi\", \"mango\"]\n",
    "\n",
    "#With no if statement\n",
    "[print(x) for x in fruits] \n",
    "\n",
    "#Without list comprehension\n",
    "newlist1 = []\n",
    "for x in fruits:\n",
    "  if \"a\" in x:\n",
    "    newlist1.append(x)\n",
    "print(newlist1)\n",
    "\n",
    "#With list comprehension\n",
    "newlist2 = [x for x in fruits if \"a\" in x]\n",
    "print(newlist2)\n",
    "\n",
    "newlist3 = [x if x != \"banana\" else \"orange\" for x in fruits] #Return \"orange\" instead of \"banana\"\n",
    "print(newlist3)"
   ]
  },
  {
   "cell_type": "markdown",
   "metadata": {},
   "source": [
    "#### Sort Lists"
   ]
  },
  {
   "cell_type": "code",
   "execution_count": null,
   "metadata": {
    "metadata": {}
   },
   "outputs": [],
   "source": [
    "thislist = [\"orange\", \"mango\", \"kiwi\", \"pineapple\", \"banana\"]\n",
    "\n",
    "thislist.sort() #Sort the list alphabetically\n",
    "print(thislist)\n",
    "\n",
    "thislist.sort(reverse = True) #Sort the list descending\n",
    "print(thislist)\n",
    "\n",
    "thislist.reverse() # Reverse the order of the list items:\n",
    "print(thislist)\n",
    "\n",
    "#Sort the list based on how close the number is to 50:\n",
    "thisnumlist = [100, 50, 65, 82, 23]\n",
    "def myfunc(n):\n",
    "  return abs(n - 50)\n",
    "\n",
    "thisnumlist.sort(key = myfunc)\n",
    "print(thisnumlist)"
   ]
  },
  {
   "cell_type": "markdown",
   "metadata": {},
   "source": [
    "#### Copy Lists"
   ]
  },
  {
   "cell_type": "code",
   "execution_count": null,
   "metadata": {},
   "outputs": [],
   "source": [
    "thislist = [\"apple\", \"banana\", \"cherry\"]\n",
    "mylist = thislist\n",
    "print(mylist)\n",
    "mylist1 = thislist.copy() # Make a copy of a list with the copy() method:\n",
    "print(mylist1)\n",
    "mylist2 = list(thislist) #Make a copy of a list with the list() method:\n",
    "print(mylist2)"
   ]
  },
  {
   "cell_type": "markdown",
   "metadata": {},
   "source": [
    "#### Join Lists"
   ]
  },
  {
   "cell_type": "code",
   "execution_count": null,
   "metadata": {},
   "outputs": [],
   "source": [
    "list1 = [\"a\", \"b\", \"c\"]\n",
    "list2 = [1, 2, 3]\n",
    "list3 = [True, 2e3j, 3.757]\n",
    "\n",
    "join_list = list1 + list2 + list3\n",
    "print(join_list)\n",
    "\n",
    "#Append list1, list2, list3 into join_list using append():\n",
    "join_list = []\n",
    "for x,y,z in zip(list1,list2,list3):\n",
    "  join_list.append(x)\n",
    "  join_list.append(y)\n",
    "  join_list.append(z)\n",
    "\n",
    "print(join_list)\n",
    "\n",
    "list1.extend(list2) #Use the extend() method to add list2 at the end of list1:\n",
    "print(list1)"
   ]
  }
 ],
 "metadata": {
  "kernelspec": {
   "display_name": "Python 3",
   "language": "python",
   "name": "python3"
  },
  "language_info": {
   "codemirror_mode": {
    "name": "ipython",
    "version": 3
   },
   "file_extension": ".py",
   "mimetype": "text/x-python",
   "name": "python",
   "nbconvert_exporter": "python",
   "pygments_lexer": "ipython3",
   "version": "3.10.12"
  }
 },
 "nbformat": 4,
 "nbformat_minor": 2
}
