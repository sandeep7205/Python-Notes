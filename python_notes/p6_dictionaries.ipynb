{
 "cells": [
  {
   "cell_type": "markdown",
   "metadata": {},
   "source": [
    "## Dictionaries\n",
    "\n",
    "> Dictionaries are used to store data values in key:value pairs with curly brackets. \n",
    "\n",
    "> A dictionary is a collection which is ordered*, changeable and do not allow duplicates."
   ]
  },
  {
   "cell_type": "code",
   "execution_count": null,
   "metadata": {},
   "outputs": [],
   "source": [
    "thisdict = {\n",
    "  \"brand\": \"Ford\",\n",
    "  \"model\": \"Mustang\",\n",
    "  \"year\": 1964,\n",
    "  \"colors\": [\"red\", \"white\", \"blue\"],\n",
    "  \"electric\": False,\n",
    "}\n",
    "\n",
    "print(thisdict)\n",
    "print(thisdict[\"colors\"]) #Print the \"brand\" value of the dictionary:\n",
    "\n",
    "thisdict = dict(name = \"John\", age = 36, country = \"Norway\")\n",
    "\n",
    "print(len(thisdict)) #Print the number of items in the dictionary:\n",
    "print(type(thisdict)) #Print the data type of a dictionary:"
   ]
  },
  {
   "cell_type": "markdown",
   "metadata": {},
   "source": [
    "#### Access Dictionary Items"
   ]
  },
  {
   "cell_type": "code",
   "execution_count": null,
   "metadata": {},
   "outputs": [],
   "source": [
    "car = {\n",
    "  \"brand\": \"Ford\",\n",
    "  \"model\": \"Mustang\",\n",
    "  \"year\": 1964,\n",
    "  \"colors\": [\"red\", \"white\", \"blue\"],\n",
    "  \"electric\": False,\n",
    "}\n",
    "\n",
    "x = car[\"model\"]\n",
    "print(x)\n",
    "yx = car.get(\"electric\") #Get the value of the \"electric\" key using get()\n",
    "print(yx) \n",
    "\n",
    "#Get Keys\n",
    "x_key = car.keys() #Get a list of the keys:\n",
    "print(x_key) \n",
    "car[\"fuel_type\"] = \"Petrol\" #Add a new item to the original dictionary\n",
    "print(x_key) \n",
    "\n",
    "#Get Values\n",
    "x_value = car.values() #Get a list of the values:\n",
    "print(x_value) \n",
    "car[\"colors\"] = \"red\" #change the value of an key\n",
    "print(x_value)\n",
    "car[\"series\"] = \"GT500\" #Add a new item to the original dictionary\n",
    "print(x_value)\n",
    "\n",
    "#Get Items\n",
    "x_items = car.items()\n",
    "print(x_items)\n",
    "\n",
    "#Check if Key Exists\n",
    "if \"model\" in car:\n",
    "  print(\"Yes, 'model' is one of the keys in the thisdict dictionary\")"
   ]
  },
  {
   "cell_type": "markdown",
   "metadata": {},
   "source": [
    "#### Add/Update/Remove Dictionary Items"
   ]
  },
  {
   "cell_type": "code",
   "execution_count": null,
   "metadata": {},
   "outputs": [],
   "source": [
    "car = {\n",
    "  \"brand\": \"Ford\",\n",
    "  \"model\": \"Mustang\",\n",
    "  \"year\": 1964,\n",
    "  \"colors\": [\"red\", \"white\", \"blue\"],\n",
    "  \"electric\": False,\n",
    "}\n",
    "car[\"series\"] = \"GT500\" #Add a new item to the original dictionary\n",
    "car.update({\"fuel_type\": \"Petrol\"}) #Add item to the dictionary by using the update() method with key:value pairs.\n",
    "\n",
    "car[\"colors\"] = \"red\" #Update the value of an key\n",
    "car.update({\"year\": 2020}) #Update value by using the update() method with key:value pairs.\n",
    "print(car)\n",
    "\n",
    "car.pop(\"model\") #The pop() method removes the item with the specified key name:\n",
    "print(car)\n",
    "\n",
    "car.popitem() #The popitem() method removes the last inserted item\n",
    "print(car)\n",
    "\n",
    "car.clear() #The clear() method empties the dictionary:\n",
    "print(car)\n",
    "\n",
    "# del car\n",
    "# print(car) #The del keyword removes the item with the specified key name:"
   ]
  },
  {
   "cell_type": "markdown",
   "metadata": {},
   "source": [
    "#### Loop Dictionaries"
   ]
  },
  {
   "cell_type": "code",
   "execution_count": null,
   "metadata": {
    "metadata": {}
   },
   "outputs": [],
   "source": [
    "car = {\n",
    "  \"brand\": \"Ford\",\n",
    "  \"model\": \"Mustang\",\n",
    "  \"year\": 1964,\n",
    "  \"colors\": [\"red\", \"white\", \"blue\"],\n",
    "  \"electric\": False,\n",
    "}"
   ]
  },
  {
   "cell_type": "code",
   "execution_count": null,
   "metadata": {
    "metadata": {}
   },
   "outputs": [],
   "source": [
    "# Print all key names in the dictionary, one by one:\n",
    "for x in car:\n",
    "  print(x) "
   ]
  },
  {
   "cell_type": "code",
   "execution_count": null,
   "metadata": {
    "metadata": {}
   },
   "outputs": [],
   "source": [
    "#Print all values in the dictionary, one by one:\n",
    "for x in car:\n",
    "  print(car[x]) "
   ]
  },
  {
   "cell_type": "markdown",
   "metadata": {},
   "source": [
    "> values() method to return values of a dictionary:\n",
    "\n",
    "> keys() method to return the keys of a dictionary:\n",
    "\n",
    "> items() method to return both keys and values:"
   ]
  },
  {
   "cell_type": "code",
   "execution_count": null,
   "metadata": {
    "metadata": {}
   },
   "outputs": [],
   "source": [
    "#the values() method to return values of a dictionary:\n",
    "car = {\n",
    "  \"brand\": \"Ford\",\n",
    "  \"model\": \"Mustang\",\n",
    "  \"year\": 1964,\n",
    "  \"colors\": [\"red\", \"white\", \"blue\"],\n",
    "  \"electric\": False,\n",
    "}\n",
    "\n",
    "for x in car.values(): #return the values of a dictionar\n",
    "    print(x)\n",
    "\n",
    "print(\"------------------\")\n",
    "\n",
    "for x in car.keys(): #return the keys of a dictionar\n",
    "  print(x)\n",
    "\n",
    "print(\"------------------\")\n",
    "\n",
    "for x, y in car.items(): #return both keys and values:\n",
    "  print(x, y)"
   ]
  },
  {
   "cell_type": "markdown",
   "metadata": {},
   "source": [
    "#### Copy Dictionaries\n",
    "\n",
    "```\n",
    "You cannot copy a dictionary simply by typing dict2 = dict1, because: dict2 will only be a reference to dict1, and changes made in dict1 will automatically also be made in dict2.\n",
    "```\n",
    "\n",
    "> Make a copy of a dictionary with the copy() method:\n",
    "\n"
   ]
  },
  {
   "cell_type": "code",
   "execution_count": null,
   "metadata": {
    "metadata": {}
   },
   "outputs": [],
   "source": [
    "thisdict = {\n",
    "  \"brand\": \"Ford\",\n",
    "  \"model\": \"Mustang\",\n",
    "  \"year\": 1964\n",
    "}\n",
    "mydict = thisdict.copy()\n",
    "print(mydict)"
   ]
  },
  {
   "cell_type": "markdown",
   "metadata": {},
   "source": [
    "> Make a copy of a dictionary with the dict() function:"
   ]
  },
  {
   "cell_type": "code",
   "execution_count": null,
   "metadata": {
    "metadata": {}
   },
   "outputs": [],
   "source": [
    "thisdict = {\n",
    "  \"brand\": \"Ford\",\n",
    "  \"model\": \"Mustang\",\n",
    "  \"year\": 1964\n",
    "}\n",
    "mydict = dict(thisdict)\n",
    "print(mydict)"
   ]
  },
  {
   "cell_type": "markdown",
   "metadata": {},
   "source": [
    "#### Nested Dictionaries\n",
    "\n",
    "> A dictionary can contain dictionaries, this is called nested dictionaries."
   ]
  },
  {
   "cell_type": "code",
   "execution_count": null,
   "metadata": {
    "metadata": {}
   },
   "outputs": [],
   "source": [
    "myfamily = {\n",
    "  \"child1\" : {\n",
    "    \"name\" : \"Emil\",\n",
    "    \"year\" : 2004\n",
    "  },\n",
    "  \"child2\" : {\n",
    "    \"name\" : \"Tobias\",\n",
    "    \"year\" : 2007\n",
    "  },\n",
    "  \"child3\" : {\n",
    "    \"name\" : \"Linus\",\n",
    "    \"year\" : 2011\n",
    "  }\n",
    "}\n",
    "\n",
    "print(myfamily)"
   ]
  },
  {
   "cell_type": "code",
   "execution_count": null,
   "metadata": {
    "metadata": {}
   },
   "outputs": [],
   "source": [
    "child1 = {\n",
    "  \"name\" : \"Emil\",\n",
    "  \"year\" : 2004\n",
    "}\n",
    "child2 = {\n",
    "  \"name\" : \"Tobias\",\n",
    "  \"year\" : 2007\n",
    "}\n",
    "child3 = {\n",
    "  \"name\" : \"Linus\",\n",
    "  \"year\" : 2011\n",
    "}\n",
    "\n",
    "myfamily = {\n",
    "  \"child1\" : child1,\n",
    "  \"child2\" : child2,\n",
    "  \"child3\" : child3\n",
    "}\n",
    "\n",
    "print(myfamily)\n",
    "\n",
    "print(\"------------------\")\n",
    "\n",
    "print(\"the name of child 2:\", myfamily[\"child2\"][\"name\"]) #Print the name of child 2\n"
   ]
  },
  {
   "cell_type": "markdown",
   "metadata": {},
   "source": [
    "#### Loop Through Nested Dictionaries\n"
   ]
  },
  {
   "cell_type": "code",
   "execution_count": 21,
   "metadata": {
    "metadata": {}
   },
   "outputs": [
    {
     "name": "stdout",
     "output_type": "stream",
     "text": [
      "child1\n",
      "------------------\n",
      "name: Emil\n",
      "year: 2004\n",
      "------------------\n",
      "child2\n",
      "------------------\n",
      "name: Tobias\n",
      "year: 2007\n",
      "------------------\n",
      "child3\n",
      "------------------\n",
      "name: Linus\n",
      "year: 2011\n",
      "------------------\n"
     ]
    }
   ],
   "source": [
    "for x, obj in myfamily.items():\n",
    "  print(x)\n",
    "#   print(obj)\n",
    "  print(\"------------------\")\n",
    "  for y in obj:\n",
    "    print(y + ':', obj[y])\n",
    "  print(\"------------------\")"
   ]
  }
 ],
 "metadata": {
  "kernelspec": {
   "display_name": "Python 3",
   "language": "python",
   "name": "python3"
  },
  "language_info": {
   "codemirror_mode": {
    "name": "ipython",
    "version": 3
   },
   "file_extension": ".py",
   "mimetype": "text/x-python",
   "name": "python",
   "nbconvert_exporter": "python",
   "pygments_lexer": "ipython3",
   "version": "3.10.12"
  }
 },
 "nbformat": 4,
 "nbformat_minor": 2
}
