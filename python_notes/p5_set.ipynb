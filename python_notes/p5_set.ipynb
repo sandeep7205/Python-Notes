{
 "cells": [
  {
   "cell_type": "markdown",
   "metadata": {},
   "source": [
    "## Sets\n",
    "\n",
    "```\n",
    "A set is a collection which is unordered, unchangeable*, and unindexed, but you can remove items and add new items.\n",
    "```\n",
    "> Duplicates Not Allowed"
   ]
  },
  {
   "cell_type": "code",
   "execution_count": null,
   "metadata": {},
   "outputs": [],
   "source": [
    "thisset = {\"apple\", \"banana\", \"cherry\"}\n",
    "# thisset = set((\"apple\", \"banana\", \"cherry\")) # note the double round-brackets\n",
    "print(thisset)"
   ]
  },
  {
   "cell_type": "markdown",
   "metadata": {},
   "source": [
    "\n",
    "> Duplicate values will be ignored.\n",
    "\n",
    "> [True and 1] & [False and 0] is considered the same value and are treated as duplicates:"
   ]
  },
  {
   "cell_type": "code",
   "execution_count": null,
   "metadata": {
    "metadata": {}
   },
   "outputs": [],
   "source": [
    "thisset = {\"apple\", \"banana\", \"cherry\", \"apple\", True, 1, 2, False, 0}\n",
    "print(thisset)\n",
    "print(len(thisset)) #Get the number of items in a set And ignore the duplicate value count"
   ]
  },
  {
   "cell_type": "markdown",
   "metadata": {},
   "source": [
    "#### Set Items - Data Types"
   ]
  },
  {
   "cell_type": "code",
   "execution_count": null,
   "metadata": {
    "metadata": {}
   },
   "outputs": [],
   "source": [
    "set1 = {\"apple\", \"banana\", \"cherry\"}\n",
    "set2 = {1, 5, 7, 9, 3}\n",
    "set3 = {True, False, False}\n",
    "set4 = {\"abc\", 34, True, 40, \"male\"}\n",
    "\n",
    "\n",
    "print(type(set1))\n",
    "print(type(set2))\n",
    "print(type(set3))\n",
    "print(type(set4))"
   ]
  },
  {
   "cell_type": "markdown",
   "metadata": {},
   "source": [
    "#### Access Set Items"
   ]
  },
  {
   "cell_type": "code",
   "execution_count": null,
   "metadata": {},
   "outputs": [],
   "source": [
    "#You cannot access items in a set by referring to an index or a key.\n",
    "thisset = {\"apple\", \"banana\", \"cherry\"}\n",
    "for x in thisset:\n",
    "  print(x)\n",
    "\n",
    "#Check if \"banana\" is present in the set:\n",
    "print(\"banana\" in thisset) \n",
    "\n",
    "# Check if \"mango\" is NOT present in the set:\n",
    "print(\"mango\" not in thisset)"
   ]
  },
  {
   "cell_type": "markdown",
   "metadata": {},
   "source": [
    "#### Add Sets\n",
    "\n",
    "> Add an item to a set, using the add() method:\n"
   ]
  },
  {
   "cell_type": "code",
   "execution_count": null,
   "metadata": {},
   "outputs": [],
   "source": [
    "thisset.add(\"orange\")\n",
    "print(thisset)"
   ]
  },
  {
   "cell_type": "markdown",
   "metadata": {},
   "source": [
    "```\n",
    "To add items from another set into the current set, use the update() method.\n",
    "it can be any iterable object (tuples, lists, dictionaries etc.).\n",
    "```"
   ]
  },
  {
   "cell_type": "code",
   "execution_count": 5,
   "metadata": {
    "metadata": {}
   },
   "outputs": [
    {
     "name": "stdout",
     "output_type": "stream",
     "text": [
      "{False, 1, 'mango', 2, 3.45, 300j, 'cherry', 'apple', 'pineapple', 'banana', 'papaya'}\n"
     ]
    }
   ],
   "source": [
    "thisset = {\"apple\", \"banana\", \"cherry\"}\n",
    "thislist = [1, 2, 3.45]\n",
    "thistuple = [True, 3e2j, False]\n",
    "\n",
    "tropical = {\"pineapple\", \"mango\", \"papaya\"}\n",
    "\n",
    "tropical.update(thisset) #Add elements from thisset into tropical\n",
    "tropical.update(thislist) #Add elements from thislist into tropical\n",
    "tropical.update(thistuple) #Add elements from thistuple into tropical\n",
    "print(tropical)"
   ]
  },
  {
   "cell_type": "markdown",
   "metadata": {},
   "source": [
    "> Remove \"banana\" by using the remove() method & [Note: If the item to remove does not exist, remove() will raise an error].\n"
   ]
  },
  {
   "cell_type": "code",
   "execution_count": null,
   "metadata": {
    "metadata": {}
   },
   "outputs": [],
   "source": [
    "tropical.remove(\"banana\")\n",
    "print(tropical)"
   ]
  },
  {
   "cell_type": "markdown",
   "metadata": {},
   "source": [
    "> Remove \"444\" by using the discard() method & [Note: If the item to remove does not exist, discard() will NOT raise an error.]\n"
   ]
  },
  {
   "cell_type": "code",
   "execution_count": null,
   "metadata": {
    "metadata": {}
   },
   "outputs": [],
   "source": [
    "tropical.discard(444)\n",
    "print(tropical)"
   ]
  },
  {
   "cell_type": "markdown",
   "metadata": {},
   "source": [
    "> Remove a random item by using the pop() method:\n"
   ]
  },
  {
   "cell_type": "code",
   "execution_count": 7,
   "metadata": {
    "metadata": {}
   },
   "outputs": [
    {
     "name": "stdout",
     "output_type": "stream",
     "text": [
      "False\n",
      "{1, 'mango', 2, 3.45, 300j, 'cherry', 'apple', 'pineapple', 'banana', 'papaya'}\n"
     ]
    }
   ],
   "source": [
    "x = tropical.pop()\n",
    "print(x)\n",
    "print(tropical)"
   ]
  },
  {
   "cell_type": "markdown",
   "metadata": {},
   "source": [
    "> The clear() method empties the set:"
   ]
  },
  {
   "cell_type": "code",
   "execution_count": null,
   "metadata": {},
   "outputs": [],
   "source": [
    "tropical.clear()\n",
    "print(tropical)"
   ]
  },
  {
   "cell_type": "markdown",
   "metadata": {},
   "source": [
    "> The del keyword will delete the set completely:"
   ]
  },
  {
   "cell_type": "code",
   "execution_count": null,
   "metadata": {},
   "outputs": [],
   "source": [
    "del tropical\n",
    "print(tropical)"
   ]
  },
  {
   "cell_type": "markdown",
   "metadata": {},
   "source": [
    "#### Loop Sets"
   ]
  },
  {
   "cell_type": "code",
   "execution_count": null,
   "metadata": {},
   "outputs": [],
   "source": [
    "thisset = {\"apple\", \"banana\", \"cherry\"}\n",
    "\n",
    "for x in thisset:\n",
    "  print(x)"
   ]
  },
  {
   "cell_type": "markdown",
   "metadata": {},
   "source": [
    "#### Join Sets"
   ]
  },
  {
   "cell_type": "code",
   "execution_count": null,
   "metadata": {},
   "outputs": [],
   "source": [
    "#Union - The union() method returns a new set with all items from both sets && also with other data types, like lists or tuples. It will exclude any duplicate items.\n",
    "set1 = {\"a\", \"b\", \"c\"}\n",
    "set2 = {0, 1, 2e4j, 3.87}\n",
    "set3 = {\"John\", True, False}\n",
    "\n",
    "join_set1 = set1.union(set2, set3)\n",
    "print(join_set1)\n",
    "\n",
    "#Use | to join two sets & allows only to join sets with sets \n",
    "join_set2 = set1 | set2 | set3 \n",
    "print(join_set2)\n",
    "\n",
    "set4 = (\"apple\", \"bananas\", \"cherry\") #Join a set with a tuple\n",
    "join_set3 = join_set1.union(set4) \n",
    "print(join_set3)\n",
    "\n",
    "\n",
    "#Update - The update() method inserts all items from one set into another. It changes the original set, and does not return a new set. It will exclude any duplicate items.\n",
    "set1 = {\"a\", \"b\" , \"c\"}\n",
    "set2 = {1, 2, 3}\n",
    "\n",
    "set1.update(set2)\n",
    "print(set1)\n",
    "\n",
    "\n",
    "#Intersection -  The intersection() method will return a new set, that only contains the items that are present in both sets. [Keep ONLY the duplicates]\n",
    "set1 = {\"apple\", \"banana\", \"cherry\"}\n",
    "set2 = {\"google\", \"microsoft\", \"apple\"}\n",
    "\n",
    "#Join set1 and set2, but keep only the duplicates:\n",
    "set3 = set1.intersection(set2) \n",
    "print(set3)\n",
    "\n",
    "#use the & operator instead of the intersection() method, and allows only to join sets with sets.\n",
    "set3 = set1 & set2\n",
    "print(set3)\n",
    "\n",
    "#The intersection_update() method will also keep ONLY the duplicates, but it will change the original set instead of returning a new set.\n",
    "set1.intersection_update(set2)\n",
    "print(set1)\n",
    "\n",
    "# Join sets that contains the values True, False, 1, and 0, and see what is considered as duplicates:\n",
    "set11 = {\"apple\", 1,  \"banana\", 0, \"cherry\"}\n",
    "set22 = {False, \"google\", 1, \"apple\", 2, True}\n",
    "\n",
    "set33 = set11.intersection(set22)\n",
    "print(set33)\n",
    "\n",
    "#Difference - The difference() method will return a new set that will contain only the items from the first set that are not present in the other set.\n",
    "\n",
    "set11 = {\"apple\", 1,  \"banana\", 0, \"cherry\"}\n",
    "set22 = {False, \"google\", 1, \"apple\", 2, True}\n",
    "\n",
    "set33 = set11.difference(set22)\n",
    "print(set33)\n",
    "set44 = set22 - set11 #You can use the - operator instead of the difference() method, and allows only to join sets with sets.\n",
    "print(set44)\n",
    "\n",
    "#The difference_update() method will also keep the items from the first set that are not in the other set, but it will change the original set instead of returning a new set.\n",
    "set1 = {\"apple\", \"banana\", \"cherry\"}\n",
    "set2 = {\"google\", \"microsoft\", \"apple\"}\n",
    "\n",
    "set1.difference_update(set2) \n",
    "print(set1)\n",
    "\n",
    "#The symmetric_difference() method will keep only the elements that are NOT present in both sets.\n",
    "set1 = {\"apple\", \"banana\", \"cherry\"}\n",
    "set2 = {\"google\", \"microsoft\", \"apple\"}\n",
    "set3 = set1.symmetric_difference(set2)\n",
    "print(set3)\n",
    "set4 = set1 ^ set2 #You can use the ^ operator instead of the symmetric_difference() method, and allows only to join sets with sets.\n",
    "print(set4)\n",
    "\n",
    "#The symmetric_difference_update() method will also keep all but the duplicates, but it will change the original set instead of returning a new set.\n",
    "set1 = {\"apple\", \"banana\", \"cherry\"}\n",
    "set2 = {\"google\", \"microsoft\", \"apple\"}\n",
    "set1.symmetric_difference_update(set2)\n",
    "print(set1)"
   ]
  }
 ],
 "metadata": {
  "kernelspec": {
   "display_name": "Python 3",
   "language": "python",
   "name": "python3"
  },
  "language_info": {
   "codemirror_mode": {
    "name": "ipython",
    "version": 3
   },
   "file_extension": ".py",
   "mimetype": "text/x-python",
   "name": "python",
   "nbconvert_exporter": "python",
   "pygments_lexer": "ipython3",
   "version": "3.10.12"
  }
 },
 "nbformat": 4,
 "nbformat_minor": 2
}
