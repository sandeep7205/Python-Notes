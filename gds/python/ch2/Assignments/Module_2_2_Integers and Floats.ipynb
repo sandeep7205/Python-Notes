{
 "cells": [
  {
   "cell_type": "markdown",
   "metadata": {},
   "source": [
    "Question 1: Basic Arithmetic\n",
    "\n",
    "Perform integer division and find the remainder when dividing 45 by 6.\n",
    "\n",
    "Hint: Use the integer division operator // and the modulus operator % for finding the remainder"
   ]
  },
  {
   "cell_type": "code",
   "execution_count": 8,
   "metadata": {},
   "outputs": [
    {
     "name": "stdout",
     "output_type": "stream",
     "text": [
      "a =  45 b =  6\n",
      "Division[a/b] : 7.5\n",
      "Floor Division[a//b] : 7\n",
      "Reminder[a'%'b] : 3\n"
     ]
    }
   ],
   "source": [
    "a = 45\n",
    "b = 6\n",
    "print ('a = ', a , 'b = ', b)\n",
    "# Division\n",
    "print(\"Division[a/b] :\", a/b)\n",
    "# Floor Division [Round value]\n",
    "print(\"Floor Division[a//b] :\", a//b)\n",
    "# Reminder\n",
    "print(\"Reminder[a'%'b] :\", a%b)\n"
   ]
  },
  {
   "cell_type": "markdown",
   "metadata": {},
   "source": [
    "Question 2: Rounding Floats\n",
    "\n",
    "Round the number 7.654321 to 2 decimal places.\n",
    "\n",
    "Hint: Use the round() function with two arguments: the number and the number of decimal places."
   ]
  },
  {
   "cell_type": "code",
   "execution_count": 15,
   "metadata": {},
   "outputs": [
    {
     "name": "stdout",
     "output_type": "stream",
     "text": [
      "Rounding Float Value of [ 7.654321 ] with TWO decimals is 7.65\n"
     ]
    }
   ],
   "source": [
    "float_val = 7.654321\n",
    "round_val = round(float_val, 2)\n",
    "\n",
    "print('Rounding Float Value of [',float_val,'] with TWO decimals is', round_val)"
   ]
  },
  {
   "cell_type": "markdown",
   "metadata": {},
   "source": [
    "Question 3: Converting Floats to Integers\n",
    "\n",
    "Convert the float 123.456 to an integer.\n",
    "\n",
    "Hint: Use the int() function to convert a floating-point number to an integer, truncating its decimal part."
   ]
  },
  {
   "cell_type": "code",
   "execution_count": 19,
   "metadata": {},
   "outputs": [
    {
     "name": "stdout",
     "output_type": "stream",
     "text": [
      "Integer Value of [ 76.54321 ] is 76\n"
     ]
    }
   ],
   "source": [
    "float_val = 76.54321\n",
    "int_val = int(float_val)\n",
    "print('Integer Value of [',float_val,'] is', int_val)"
   ]
  },
  {
   "cell_type": "markdown",
   "metadata": {},
   "source": [
    "Question 4: Absolute Value\n",
    "\n",
    "Find the absolute value of -20.\n",
    "\n",
    "Hint: Use the abs() function to get the absolute value of a number."
   ]
  },
  {
   "cell_type": "code",
   "execution_count": 20,
   "metadata": {},
   "outputs": [
    {
     "name": "stdout",
     "output_type": "stream",
     "text": [
      "Absolute Value of [ -21 ] is 21\n"
     ]
    }
   ],
   "source": [
    "negetive_val = -21\n",
    "absolute_val = abs(negetive_val)\n",
    "print('Absolute Value of [',negetive_val,'] is', absolute_val)"
   ]
  },
  {
   "cell_type": "markdown",
   "metadata": {},
   "source": [
    "Question 5: Power Function\n",
    "\n",
    "Calculate 2 raised to the power of 5.\n",
    "\n",
    "Hint: Use the ** operator or the pow() function for exponentiation."
   ]
  },
  {
   "cell_type": "code",
   "execution_count": 29,
   "metadata": {},
   "outputs": [
    {
     "name": "stdout",
     "output_type": "stream",
     "text": [
      "using \"**\" [ 2 ] Power Value of [ 5 ] is  25\n",
      "using \"pow()\" [ 2 ] Power Value of [ 5 ] is  25\n"
     ]
    }
   ],
   "source": [
    "int_num = 5\n",
    "power_val = 2\n",
    "print('using \"**\" [',power_val,'] Power Value of [',int_num,'] is ', int_num**power_val)\n",
    "# Power Function\n",
    "print('using \"pow()\" [',power_val,'] Power Value of [',int_num,'] is ', pow(int_num, power_val))\n"
   ]
  },
  {
   "cell_type": "markdown",
   "metadata": {},
   "source": [
    "Question 6: Comparing Floats\n",
    "\n",
    "Explain why directly comparing two floats for equality might not always work as expected. Provide an example.\n",
    "\n",
    "Hint: Floating-point arithmetic can lead to rounding errors. Consider using a tolerance for comparison.\n",
    "\n",
    "> Comparing two floats directly can be tricky because computers can't store most decimal numbers exactly; they store an approximation instead.\n",
    "\n",
    ">  We might expect 0.1 + 0.2 to equal 0.3, the computer actually calculates something like 0.30000000000000004. So when it checks if this is the same as 0.3, it says \"No, they're not the same"
   ]
  },
  {
   "cell_type": "code",
   "execution_count": 35,
   "metadata": {},
   "outputs": [
    {
     "name": "stdout",
     "output_type": "stream",
     "text": [
      "a =  0.30000000000000004\n",
      "b =  0.3\n",
      "Comapring Two floats directly =  False\n",
      "Comparing after rounding the value =  True\n"
     ]
    }
   ],
   "source": [
    "a = 0.1 + 0.2\n",
    "b = 0.3\n",
    "print('a = ', a)\n",
    "print('b = ', b)\n",
    "print('Comapring Two floats directly = ', a == b)\n",
    "print ('Comparing after rounding the value = ', round(a, 1) == b)"
   ]
  },
  {
   "cell_type": "markdown",
   "metadata": {},
   "source": [
    "Question 7: Large Numbers\n",
    "\n",
    "Write a number representing one billion in Python using scientific notation.\n",
    "\n",
    "Hint: Scientific notation in Python uses the format 1e9 for one billion."
   ]
  },
  {
   "cell_type": "code",
   "execution_count": 37,
   "metadata": {},
   "outputs": [
    {
     "name": "stdout",
     "output_type": "stream",
     "text": [
      "One Billion -  1000000000.0\n"
     ]
    }
   ],
   "source": [
    "# Scientific notation\n",
    "a = 1e9\n",
    "print('One Billion - ', a)"
   ]
  },
  {
   "cell_type": "markdown",
   "metadata": {},
   "source": [
    "Question 8: Incrementing Numbers\n",
    "\n",
    "Increment the variable counter from 0 to 10 using a loop, printing its value at each step.\n",
    "\n",
    "Hint: Use a for loop and the range() function, or increment the variable inside a while loop."
   ]
  },
  {
   "cell_type": "code",
   "execution_count": 47,
   "metadata": {},
   "outputs": [
    {
     "name": "stdout",
     "output_type": "stream",
     "text": [
      "Counter Value =  1\n",
      "Counter Value =  2\n",
      "Counter Value =  3\n",
      "Counter Value =  4\n",
      "Counter Value =  5\n",
      "Counter Value =  6\n",
      "Counter Value =  7\n",
      "Counter Value =  8\n",
      "Counter Value =  9\n",
      "Counter Value =  10\n",
      "--------------------------------\n",
      "Counter Value =  0\n",
      "Counter Value =  1\n",
      "Counter Value =  2\n",
      "Counter Value =  3\n",
      "Counter Value =  4\n",
      "Counter Value =  5\n",
      "Counter Value =  6\n",
      "Counter Value =  7\n",
      "Counter Value =  8\n",
      "Counter Value =  9\n",
      "Counter Value =  10\n"
     ]
    }
   ],
   "source": [
    "starting = 0\n",
    "ending = 10 \n",
    "increase_by = 1\n",
    "\n",
    "# using for & range()\n",
    "for counting in range(ending):\n",
    " print('Counter Value = ', counting+increase_by)\n",
    "\n",
    "print('--------------------------------')\n",
    "# using while loop\n",
    "counter = starting\n",
    "while counter <= ending:\n",
    " print('Counter Value = ', counter)\n",
    " counter += increase_by"
   ]
  },
  {
   "cell_type": "markdown",
   "metadata": {},
   "source": [
    "Question 9: Average Calculation\n",
    "\n",
    "Calculate the average of the numbers 23, 95, 40, and 67. Print the result.\n",
    "\n",
    "Hint: Sum the numbers and divide by the count. Make sure the division is not performing integer division."
   ]
  },
  {
   "cell_type": "code",
   "execution_count": 55,
   "metadata": {},
   "outputs": [
    {
     "name": "stdout",
     "output_type": "stream",
     "text": [
      "Average of 23,95,40,67 is  56.25\n",
      "Using sume() & len() Average of 23,95,40,67 is  56.25\n"
     ]
    }
   ],
   "source": [
    "print('Average of 23,95,40,67 is ', (23+95+40+67)/4)\n",
    "\n",
    "# using sume() & len()\n",
    "numbers = [23, 95, 40, 67]\n",
    "print('Using sume() & len() Average of 23,95,40,67 is ', sum(numbers)/len(numbers))\n"
   ]
  },
  {
   "cell_type": "markdown",
   "metadata": {},
   "source": [
    "Question 10: Float Precision\n",
    "\n",
    "Assign the result of 0.1 + 0.2 to a variable and print it. Discuss the observed output.\n",
    "\n",
    "Hint: Note that the exact representation of some floating-point numbers can lead to unexpected results due to how numbers are stored in binary."
   ]
  },
  {
   "cell_type": "code",
   "execution_count": 56,
   "metadata": {},
   "outputs": [
    {
     "name": "stdout",
     "output_type": "stream",
     "text": [
      "a =  0.30000000000000004\n",
      "b =  0.3\n"
     ]
    }
   ],
   "source": [
    "a = 0.1 + 0.2\n",
    "print('a = ', a)"
   ]
  }
 ],
 "metadata": {
  "kernelspec": {
   "display_name": "Python 3",
   "language": "python",
   "name": "python3"
  },
  "language_info": {
   "codemirror_mode": {
    "name": "ipython",
    "version": 3
   },
   "file_extension": ".py",
   "mimetype": "text/x-python",
   "name": "python",
   "nbconvert_exporter": "python",
   "pygments_lexer": "ipython3",
   "version": "3.13.0"
  }
 },
 "nbformat": 4,
 "nbformat_minor": 2
}
