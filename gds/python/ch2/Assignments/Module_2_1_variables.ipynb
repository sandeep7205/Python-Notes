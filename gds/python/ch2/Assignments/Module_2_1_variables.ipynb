{
 "cells": [
  {
   "cell_type": "markdown",
   "metadata": {},
   "source": [
    "Question 1: Variable Declaration\n",
    "\n",
    "Declare a variable named days_in_week and assign it the number of days in a week. Print the variable.\n",
    "\n",
    "Hint: Remember, a week typically consists of 7 days."
   ]
  },
  {
   "cell_type": "code",
   "execution_count": 9,
   "metadata": {},
   "outputs": [
    {
     "name": "stdout",
     "output_type": "stream",
     "text": [
      "7\n"
     ]
    }
   ],
   "source": [
    "days_in_week = 7\n",
    "print(days_in_week)"
   ]
  },
  {
   "cell_type": "markdown",
   "metadata": {},
   "source": [
    "Question 2: Arithmetic Operations\n",
    "\n",
    "Given two variables a = 15 and b = 4, calculate and print their sum, difference, product, and quotient.\n",
    "\n",
    "Hint: Use standard arithmetic operators (+, -, *, /) for these operations.\n"
   ]
  },
  {
   "cell_type": "code",
   "execution_count": 4,
   "metadata": {},
   "outputs": [
    {
     "name": "stdout",
     "output_type": "stream",
     "text": [
      "Sum: 19\n",
      "Subtraction/difference: 11\n",
      "Product: 60\n",
      "Division/Quotient: 3.75\n"
     ]
    }
   ],
   "source": [
    "a = 15\n",
    "b = 4\n",
    "\n",
    "# Addition\n",
    "sum = a + b\n",
    "print(\"Sum:\", sum)\n",
    "\n",
    "# Subtraction\n",
    "difference = a - b\n",
    "print(\"Subtraction/difference:\", difference)\n",
    "\n",
    "# Multiplication\n",
    "product = a * b\n",
    "print(\"Product:\", product)\n",
    "\n",
    "# Division\n",
    "quotient = a / b\n",
    "print(\"Division/Quotient:\", quotient)"
   ]
  },
  {
   "cell_type": "markdown",
   "metadata": {},
   "source": [
    "Question 3: Type Conversion\n",
    "\n",
    "Convert the string \"123\" to an integer and assign it to a variable named number. Print the type of number to confirm the conversion.\n",
    "\n",
    "Hint: Use the built-in function int() for converting a string to an integer.\n"
   ]
  },
  {
   "cell_type": "code",
   "execution_count": 12,
   "metadata": {},
   "outputs": [
    {
     "name": "stdout",
     "output_type": "stream",
     "text": [
      "Type:  <class 'int'>\n"
     ]
    }
   ],
   "source": [
    "string = \"123\"\n",
    "number = int(string)\n",
    "print(\"Type: \", type(number))"
   ]
  },
  {
   "cell_type": "markdown",
   "metadata": {},
   "source": [
    "Question 4: String Concatenation\n",
    "\n",
    "Concatenate the following two strings: first_name and last_name into a full name and print the result. Assume the variables have already been defined.\n",
    "\n",
    "Hint: Use the + operator or the format() method to concatenate strings\n"
   ]
  },
  {
   "cell_type": "code",
   "execution_count": 8,
   "metadata": {},
   "outputs": [],
   "source": [
    "first_name = \"Sandeep\"\n",
    "last_name = \"Mishra\""
   ]
  },
  {
   "cell_type": "code",
   "execution_count": 23,
   "metadata": {},
   "outputs": [
    {
     "name": "stdout",
     "output_type": "stream",
     "text": [
      "Full Name1:  Sandeep Mishra\n",
      "Full Name2:  Sandeep Mishra\n",
      "Full Name3:  Sandeep Mishra\n",
      "Full Name4:  Sandeep Mishra\n",
      "Full Name5:  Sandeep Mishra\n"
     ]
    }
   ],
   "source": [
    "# String Concatenation Using “,” (comma)\n",
    "print(\"Full Name1: \", first_name, last_name)\n",
    "\n",
    "# String Concatenation Using + operator \n",
    "full_name = first_name + \" \" + last_name\n",
    "print(\"Full Name2: \", full_name)\n",
    "\n",
    "# String Concatenation using format() function - The curly braces {} are used to set the position of strings.\n",
    "format_full_name = \"{} {}\".format(first_name, last_name)\n",
    "print(\"Full Name3: \", format_full_name)\n",
    "\n",
    "# String Concatenation using join() Method\n",
    "join_full_name = \" \".join([first_name, last_name])\n",
    "print(\"Full Name4: \", join_full_name)\n",
    "\n",
    "# String Concatenation Using % operator \n",
    "print(\"Full Name5: \", \"% s % s\" % (first_name, last_name))"
   ]
  },
  {
   "cell_type": "markdown",
   "metadata": {},
   "source": [
    "Question 5: Updating Variables\n",
    "\n",
    "Start with the variable score = 0. Add 5 to score, then multiply score by 3, and subtract 2. Print the final score.\n",
    "\n",
    "Hint: You can update a variable using operations like +=, *=, and -=.\n"
   ]
  },
  {
   "cell_type": "code",
   "execution_count": 26,
   "metadata": {},
   "outputs": [
    {
     "name": "stdout",
     "output_type": "stream",
     "text": [
      "Original value =  0\n",
      "after Add 5 =  5\n",
      "after Multiply 3 =  15\n",
      "after Substract 2 =  13\n"
     ]
    }
   ],
   "source": [
    "score = 0\n",
    "print(\"Original value = \", score)\n",
    "# Add 5\n",
    "score += 5\n",
    "print(\"after Add 5 = \", score)\n",
    "# Multiply 3\n",
    "score *= 3\n",
    "print(\"after Multiply 3 = \", score)\n",
    "# Substract 2\n",
    "score -= 2\n",
    "print(\"after Substract 2 = \", score)"
   ]
  },
  {
   "cell_type": "markdown",
   "metadata": {},
   "source": [
    "Question 6: Boolean Variables\n",
    "\n",
    "Create a boolean variable is_sunny to represent if the weather is sunny or not. Set it to True if it is sunny and False otherwise. Print the variable.\n",
    "\n",
    "Hint: Boolean values in Python are True and False."
   ]
  },
  {
   "cell_type": "code",
   "execution_count": 2,
   "metadata": {},
   "outputs": [
    {
     "name": "stdout",
     "output_type": "stream",
     "text": [
      "False\n"
     ]
    }
   ],
   "source": [
    "is_sunny = False\n",
    "print(is_sunny) "
   ]
  },
  {
   "cell_type": "markdown",
   "metadata": {},
   "source": [
    "Question 7: Variable Names\n",
    "\n",
    "Which of the following is an invalid variable name in Python? Why?\n",
    "\n",
    "(a) python3\n",
    "(b) 3_python\n",
    "(c) _user_name\n",
    "(d) user-name\n",
    "\n",
    "Hint: Recall the rules for naming variables in Python, particularly regarding numbers and special characters.\n",
    "\n",
    "\n",
    "> Answer 7: Option (b) & (d) are the invalid variables names, because they are having numerical and special characters in the name."
   ]
  },
  {
   "cell_type": "markdown",
   "metadata": {},
   "source": [
    "Question 8: Swapping Values\n",
    "\n",
    "Swap the values of two variables x and y. If initially x = 10 and y = 5, ensure x becomes 5 and y becomes 10. Print the swapped values.\n",
    "\n",
    "Hint: Consider using a temporary variable or the tuple unpacking feature in Python."
   ]
  },
  {
   "cell_type": "code",
   "execution_count": 12,
   "metadata": {},
   "outputs": [
    {
     "name": "stdout",
     "output_type": "stream",
     "text": [
      "Before Swap: x = 10, y = 5\n",
      "After Swap: x = 5, y = 10\n",
      "Again After Swap: x = 10, y = 5\n"
     ]
    }
   ],
   "source": [
    "x = 10\n",
    "y = 5\n",
    "print(\"Before Swap: x = %d, y = %d\" % (x, y))\n",
    "\n",
    "# Swapping Values using a temporary variable\n",
    "swap_variable = x\n",
    "x = y\n",
    "y= swap_variable\n",
    "print(\"After Swap: x = %d, y = %d\" % (x, y))\n",
    "\n",
    "\n",
    "# Swapping using tuple unpacking\n",
    "x, y = y, x\n",
    "print(\"Again After Swap: x = %d, y = %d\" % (x, y))"
   ]
  },
  {
   "cell_type": "markdown",
   "metadata": {},
   "source": [
    "Question 9: User Input\n",
    "\n",
    "Write a program that asks the user for their name and their age. Print a message greeting them and mentioning how old they are.\n",
    "\n",
    "Hint: Use the input() function to get user input and remember to convert the age input to an integer."
   ]
  },
  {
   "cell_type": "code",
   "execution_count": 15,
   "metadata": {},
   "outputs": [
    {
     "name": "stdout",
     "output_type": "stream",
     "text": [
      "Hi Sandeep ,Your are 30 years old.\n"
     ]
    }
   ],
   "source": [
    "name = input('Enter your name: ')\n",
    "age = int(input('Enter your age:'))\n",
    "\n",
    "print(\"Hi\", name, \",Your are\", age, \"years old.\")"
   ]
  },
  {
   "cell_type": "markdown",
   "metadata": {},
   "source": [
    "Question 10: Dynamic Typing\n",
    "\n",
    "Create a variable data and assign it an integer value. Then, reassign data to a string. Print the type of data before and after the reassignment.\n",
    "\n",
    "Hint: Use the type() function to check the variable type at each step."
   ]
  },
  {
   "cell_type": "code",
   "execution_count": 24,
   "metadata": {},
   "outputs": [
    {
     "name": "stdout",
     "output_type": "stream",
     "text": [
      "Type of the value [ 5 ] is -  <class 'int'>\n",
      "Type of the value [ 5.67 ] is -  <class 'float'>\n",
      "Type of the value [ 5e+67 ] is -  <class 'float'>\n",
      "Type of the value [ skm ] is -  <class 'str'>\n",
      "Type of the value [ True ] is -  <class 'bool'>\n"
     ]
    }
   ],
   "source": [
    "data = 5\n",
    "print(\"Type of the value [\", data,\"] is - \",type(data))\n",
    "data = 5.67\n",
    "print(\"Type of the value [\", data,\"] is - \",type(data))\n",
    "data = 5E67\n",
    "print(\"Type of the value [\", data,\"] is - \",type(data))\n",
    "data = 'skm'\n",
    "print(\"Type of the value [\", data,\"] is - \",type(data))\n",
    "data = True\n",
    "print(\"Type of the value [\", data,\"] is - \",type(data))"
   ]
  }
 ],
 "metadata": {
  "kernelspec": {
   "display_name": "Python 3",
   "language": "python",
   "name": "python3"
  },
  "language_info": {
   "codemirror_mode": {
    "name": "ipython",
    "version": 3
   },
   "file_extension": ".py",
   "mimetype": "text/x-python",
   "name": "python",
   "nbconvert_exporter": "python",
   "pygments_lexer": "ipython3",
   "version": "3.10.12"
  }
 },
 "nbformat": 4,
 "nbformat_minor": 2
}
