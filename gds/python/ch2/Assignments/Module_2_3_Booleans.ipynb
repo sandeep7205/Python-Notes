{
 "cells": [
  {
   "cell_type": "markdown",
   "metadata": {},
   "source": [
    "Question 1: Boolean Values\n",
    "\n",
    "What are the two Boolean values in Python?\n",
    "\n",
    "Hint: The Python Boolean type can represent one of two values.\n",
    "\n",
    "> Answer : True & False"
   ]
  },
  {
   "cell_type": "markdown",
   "metadata": {},
   "source": [
    "Question 2: Boolean Operations\n",
    "\n",
    "Perform the AND operation on the Boolean values True and False. What is the result?\n",
    "\n",
    "Hint: Use the and keyword to perform the logical AND operation."
   ]
  },
  {
   "cell_type": "code",
   "execution_count": 6,
   "metadata": {},
   "outputs": [
    {
     "name": "stdout",
     "output_type": "stream",
     "text": [
      "True\n",
      "False\n",
      "False\n",
      "False\n"
     ]
    }
   ],
   "source": [
    "a = True\n",
    "b = False\n",
    "# AND operation\n",
    "print(a and a)\n",
    "print(a and b)\n",
    "print(b and a)\n",
    "print(b and b)\n"
   ]
  },
  {
   "cell_type": "markdown",
   "metadata": {},
   "source": [
    "Question 3: Boolean OR Operation\n",
    "\n",
    "What is the result of the OR operation when both operands are False?\n",
    "\n",
    "Hint: Use the or keyword to perform the logical OR operation."
   ]
  },
  {
   "cell_type": "code",
   "execution_count": 7,
   "metadata": {},
   "outputs": [
    {
     "name": "stdout",
     "output_type": "stream",
     "text": [
      "True\n",
      "True\n",
      "True\n",
      "False\n"
     ]
    }
   ],
   "source": [
    "a = True\n",
    "b = False\n",
    "# OR operation\n",
    "print(a or a)\n",
    "print(a or b)\n",
    "print(b or a)\n",
    "print(b or b)"
   ]
  },
  {
   "cell_type": "markdown",
   "metadata": {},
   "source": [
    "Question 4: NOT Operation\n",
    "\n",
    "What is the result of applying the NOT operation to True?\n",
    "\n",
    "Hint: Use the not keyword to invert a Boolean value."
   ]
  },
  {
   "cell_type": "code",
   "execution_count": 8,
   "metadata": {},
   "outputs": [
    {
     "name": "stdout",
     "output_type": "stream",
     "text": [
      "False\n",
      "True\n"
     ]
    }
   ],
   "source": [
    "a = True\n",
    "b = False\n",
    "# NOT operation\n",
    "print(not a)\n",
    "print(not b)"
   ]
  },
  {
   "cell_type": "markdown",
   "metadata": {},
   "source": [
    "Question 5: Comparison Operators\n",
    "\n",
    "Use a comparison operator to determine if 10 is greater than 2. What is the Boolean result?\n",
    "\n",
    "Hint: Use the > operator to compare the two numbers."
   ]
  },
  {
   "cell_type": "code",
   "execution_count": 10,
   "metadata": {},
   "outputs": [
    {
     "name": "stdout",
     "output_type": "stream",
     "text": [
      "True\n",
      "False\n"
     ]
    }
   ],
   "source": [
    "a = 10\n",
    "b = 2\n",
    "\n",
    "print(a > b)\n",
    "print(b > a)"
   ]
  },
  {
   "cell_type": "markdown",
   "metadata": {},
   "source": [
    "Question 6: Equality and Identity\n",
    "\n",
    "Explain the difference between == and is when used in a condition. Provide examples where the results differ.\n",
    "\n",
    "Hint: == checks for equality of value, whereas is checks for identity (i.e., if two variables point to the same object)."
   ]
  },
  {
   "cell_type": "code",
   "execution_count": 31,
   "metadata": {},
   "outputs": [
    {
     "name": "stdout",
     "output_type": "stream",
     "text": [
      "140733159039944\n",
      "140733159102176\n",
      "140733159039944\n",
      "2085362786240\n",
      "2085362786816\n",
      "False False\n",
      "True True\n",
      "False False\n",
      "False False\n",
      "True False\n"
     ]
    }
   ],
   "source": [
    "a = 2\n",
    "print(id(a))\n",
    "b = '2'\n",
    "print(id(b))\n",
    "c = 2\n",
    "print(id(c))\n",
    "d = [2]\n",
    "print(id(d))\n",
    "e = [2]\n",
    "print(id(e))\n",
    "#Equality '==' compares the value\n",
    "#Identity 'is' comapres the exact location of the object in memory\n",
    "print(a == b, a is b) # False False\n",
    "print(a == c, a is c) # True True - As in python the variable is immutable, it having the same memory location both variables have same values and data types and have same identity\n",
    "print(a == d, a is d) # False False\n",
    "print(b == d, b is d) # False False\n",
    "print(d == e, d is e) # True False"
   ]
  },
  {
   "cell_type": "markdown",
   "metadata": {},
   "source": [
    "Question 7: Boolean Conversion\n",
    "\n",
    "Convert the integer 0 to a Boolean. What is the result?\n",
    "\n",
    "Hint: Use the bool() function to convert numeric values to Boolean values, noting how Python treats 0."
   ]
  },
  {
   "cell_type": "code",
   "execution_count": 32,
   "metadata": {},
   "outputs": [
    {
     "name": "stdout",
     "output_type": "stream",
     "text": [
      "True\n",
      "False\n"
     ]
    }
   ],
   "source": [
    "x = 1\n",
    "y = 0\n",
    "# Data type conversion \n",
    "print(bool(x))\n",
    "print(bool(y))"
   ]
  },
  {
   "cell_type": "markdown",
   "metadata": {},
   "source": [
    "Question 8: Using Booleans in Conditional Statements\n",
    "\n",
    "Write a simple if statement that prints \"Yes\" if a = True, and \"No\" otherwise.\n",
    "\n",
    "Hint: An if statement can directly evaluate a Boolean expression."
   ]
  },
  {
   "cell_type": "code",
   "execution_count": 35,
   "metadata": {},
   "outputs": [
    {
     "name": "stdout",
     "output_type": "stream",
     "text": [
      "Yes\n"
     ]
    }
   ],
   "source": [
    "a = 5\n",
    "if a:\n",
    "    print(\"Yes\")\n",
    "else:\n",
    "    print(\"No\")"
   ]
  },
  {
   "cell_type": "markdown",
   "metadata": {},
   "source": [
    "Question 9: Truthiness of Non-Boolean Values\n",
    "\n",
    "List some examples of non-Boolean values that are treated as True in Python when evaluated in a Boolean context.\n",
    "\n",
    "Hint: Most values are treated as True except for a few specific cases, such as 0, None, and empty collections."
   ]
  },
  {
   "cell_type": "code",
   "execution_count": 39,
   "metadata": {},
   "outputs": [
    {
     "name": "stdout",
     "output_type": "stream",
     "text": [
      "Non-Boolean\n",
      "Non-Boolean\n",
      "Non-Boolean\n",
      "Boolean\n",
      "Boolean\n",
      "Boolean\n",
      "Non-Boolean\n"
     ]
    }
   ],
   "source": [
    "a = [None, '', 0, 5, 'hi', True, False] \n",
    "for sub_a in a:\n",
    "    if sub_a:\n",
    "        print(\"Boolean\")\n",
    "    else:\n",
    "        print(\"Non-Boolean\")"
   ]
  },
  {
   "cell_type": "markdown",
   "metadata": {},
   "source": [
    "Question 10: Short-circuiting in Logical Operations\n",
    "\n",
    "Explain the concept of short-circuiting in the context of the AND and OR Boolean operations. Provide examples.\n",
    "\n",
    "Hint: Short-circuiting occurs when Python stops evaluating a logical expression as soon as the overall truth value is determined."
   ]
  },
  {
   "cell_type": "code",
   "execution_count": 41,
   "metadata": {},
   "outputs": [
    {
     "name": "stdout",
     "output_type": "stream",
     "text": [
      "False\n",
      "True\n"
     ]
    },
    {
     "data": {
      "text/plain": [
       "\"\\n1. `(x > 5)` is `True`.\\n2. **Short-circuiting**: Python stops here because for `OR` to be `True`, only one condition needs to be `True`. Since the first condition is already `True`, Python skips the second condition.\\n\\nOutput: True\\n\\n### Why Short-circuiting is Useful:\\nIt helps Python avoid unnecessary work, and in some cases, it can prevent errors (like dividing by zero or accessing something that doesn't exist).\\n\""
      ]
     },
     "execution_count": 41,
     "metadata": {},
     "output_type": "execute_result"
    }
   ],
   "source": [
    "# \"\"\"\n",
    "# What is Short-circuiting?\n",
    "# Short-circuiting means that Python stops checking conditions as soon as it knows the result of a logical expression. This happens with `AND` and `OR` operations.\n",
    "\n",
    "# - **`AND`**: If Python finds a `False` value, it stops because the whole expression can never be `True`.\n",
    "# - **`OR`**: If Python finds a `True` value, it stops because the whole expression will be `True`.\n",
    "# \"\"\"\n",
    "### Example 1: `AND` Short-circuiting\n",
    "# Example of AND short-circuiting\n",
    "x = 10\n",
    "y = 0\n",
    "\n",
    "# Check two conditions with AND\n",
    "result = (x > 5) and (y != 0)  # The second condition will not be checked!\n",
    "print(result)\n",
    "\n",
    "#### What happens here:\n",
    "# \"\"\"\n",
    "# 1. `(x > 5)` is `True`.\n",
    "# 2. Python moves to `(y != 0)`. Since `y` is `0`, this is `False`.\n",
    "# 3. **Short-circuiting**: Python stops here because for `AND` to be `True`, both conditions must be `True`. Since one condition is `False`, there’s no need to check any further.\n",
    "\n",
    "# Output: False\n",
    "# \"\"\"\n",
    "\n",
    "\n",
    "### Example 2: `OR` Short-circuiting\n",
    "# Example of OR short-circuiting\n",
    "x = 10\n",
    "y = 0\n",
    "\n",
    "# Check two conditions with OR\n",
    "result = (x > 5) or (y != 0)  # The second condition will not be checked!\n",
    "print(result)\n",
    "\n",
    "\n",
    "#### What happens here:\n",
    "# \"\"\"\n",
    "# 1. `(x > 5)` is `True`.\n",
    "# 2. **Short-circuiting**: Python stops here because for `OR` to be `True`, only one condition needs to be `True`. Since the first condition is already `True`, Python skips the second condition.\n",
    "\n",
    "# Output: True\n",
    "\n",
    "# ### Why Short-circuiting is Useful:\n",
    "# It helps Python avoid unnecessary work, and in some cases, it can prevent errors (like dividing by zero or accessing something that doesn't exist).\n",
    "# \"\"\""
   ]
  },
  {
   "cell_type": "markdown",
   "metadata": {},
   "source": []
  }
 ],
 "metadata": {
  "kernelspec": {
   "display_name": "Python 3",
   "language": "python",
   "name": "python3"
  },
  "language_info": {
   "codemirror_mode": {
    "name": "ipython",
    "version": 3
   },
   "file_extension": ".py",
   "mimetype": "text/x-python",
   "name": "python",
   "nbconvert_exporter": "python",
   "pygments_lexer": "ipython3",
   "version": "3.13.0"
  }
 },
 "nbformat": 4,
 "nbformat_minor": 2
}
