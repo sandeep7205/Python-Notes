{
 "cells": [
  {
   "cell_type": "code",
   "execution_count": null,
   "id": "ee29ae53",
   "metadata": {},
   "outputs": [],
   "source": [
    "# Question 1: Creating Strings\n",
    "# Strings in Python can be created by enclosing text in single ('') or double (\"\") quotes.\n",
    "# This allows for the creation of text-based data in your code.\n",
    "\n",
    "greeting = \"Hello World!\"\n",
    "print(\"Greeting:\", greeting)\n",
    "# Explanation: The greeting variable is assigned a string enclosed in double quotes."
   ]
  },
  {
   "cell_type": "code",
   "execution_count": null,
   "id": "e6300a4c",
   "metadata": {},
   "outputs": [],
   "source": [
    "# Question 2: String Length Concept\n",
    "# The len() function can be used to find out the number of characters in a string, including spaces.\n",
    "\n",
    "example_string = \"Python is fun!\"\n",
    "length = len(example_string)\n",
    "print(\"Number of characters:\", length)\n",
    "# Explanation: len() counts each character (including spaces) in the string."
   ]
  },
  {
   "cell_type": "code",
   "execution_count": null,
   "id": "443c3b3f",
   "metadata": {},
   "outputs": [],
   "source": [
    "# Question 3: Concatenating Strings\n",
    "# Two or more strings can be joined together (concatenated) using the + operator.\n",
    "\n",
    "hello = \"Hello\"\n",
    "world = \"World\"\n",
    "greeting = hello + \" \" + world\n",
    "print(\"Greeting:\", greeting)\n",
    "# Explanation: The + operator is used to concatenate \"Hello\" and \"World\" with a space in between."
   ]
  },
  {
   "cell_type": "code",
   "execution_count": null,
   "id": "abb00e0a",
   "metadata": {},
   "outputs": [],
   "source": [
    "# Question 4: Using Newline Characters\n",
    "# The newline character \\n is used to create a new line in a string.\n",
    "\n",
    "multi_line_string = \"Hello\\nWorld!\"\n",
    "print(\"Multi-line String:\\n\", multi_line_string)\n",
    "# Explanation: \\n within the string causes \"World!\" to be printed on a new line."
   ]
  },
  {
   "cell_type": "code",
   "execution_count": null,
   "id": "16d06cc3",
   "metadata": {},
   "outputs": [],
   "source": [
    "# Question 5: Accessing String Characters\n",
    "# Individual characters in a string can be accessed using indexing. Indexes start at 0.\n",
    "\n",
    "string = \"Data\"\n",
    "first_character = string[0]\n",
    "print(\"First character:\", first_character)\n",
    "# Explanation: The first character of \"Data\" is accessed using string[0]."
   ]
  },
  {
   "cell_type": "code",
   "execution_count": null,
   "id": "9465923b",
   "metadata": {},
   "outputs": [],
   "source": [
    "# Question 6: Understanding String Slicing\n",
    "# String slicing is used to extract a portion of a string using the syntax [start:end].\n",
    "\n",
    "phrase = \"Hello World!\"\n",
    "world = phrase[6:11]\n",
    "print(\"Extracted part:\", world)\n",
    "# Explanation: Slicing from index 6 to 11 extracts \"World\" from \"Hello World!\"."
   ]
  },
  {
   "cell_type": "code",
   "execution_count": null,
   "id": "8ec6d9af",
   "metadata": {},
   "outputs": [],
   "source": [
    "# Question 7: Immutability of Strings\n",
    "# Strings in Python are immutable, meaning once created, their characters cannot be changed.\n",
    "\n",
    "original = \"Hello\"\n",
    "# Attempt to change 'H' to 'J' will result in an error\n",
    "# Correct approach is to create a new string\n",
    "corrected = \"J\" + original[1:]\n",
    "print(\"Corrected string:\", corrected)\n",
    "# Explanation: Demonstrates creating a new string \"Jello\" since strings are immutable."
   ]
  },
  {
   "cell_type": "code",
   "execution_count": null,
   "id": "53463b47",
   "metadata": {},
   "outputs": [],
   "source": [
    "# Question 8: The Significance of Escape Characters\n",
    "# Escape characters like \\n (newline) and \\t (tab) allow for inserting special characters in strings.\n",
    "\n",
    "example_with_tab = \"Hello\\tWorld!\"\n",
    "print(\"String with tab:\", example_with_tab)\n",
    "# Explanation: \\t inserts a tab space between \"Hello\" and \"World!\"."
   ]
  },
  {
   "cell_type": "code",
   "execution_count": null,
   "id": "e2be87f8",
   "metadata": {},
   "outputs": [],
   "source": [
    "# Question 9: String Concatenation Without Operators\n",
    "# String literals placed next to each other are automatically concatenated.\n",
    "\n",
    "concatenated_string = \"Hello \" \"World!\"\n",
    "print(\"Concatenated string:\", concatenated_string)\n",
    "# Explanation: Placing string literals next to each other concatenates them."
   ]
  },
  {
   "cell_type": "code",
   "execution_count": null,
   "id": "f9787407",
   "metadata": {},
   "outputs": [],
   "source": [
    "# Question 10: Incorporating Variables in Strings\n",
    "# Before the introduction of f-strings, variables could be included in strings through concatenation or the str() function.\n",
    "\n",
    "age = 25\n",
    "message = \"Your age is \" + str(age)\n",
    "print(\"Message:\", message)\n",
    "# Explanation: Demonstrates using the str() function to include the integer variable age in a string."
   ]
  }
 ],
 "metadata": {},
 "nbformat": 4,
 "nbformat_minor": 5
}
