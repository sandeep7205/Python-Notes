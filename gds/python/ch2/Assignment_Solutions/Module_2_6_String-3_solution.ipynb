{
 "cells": [
  {
   "cell_type": "code",
   "execution_count": null,
   "id": "ab8466ae",
   "metadata": {},
   "outputs": [],
   "source": [
    "# Question 1: Finding a Substring\n",
    "# To find the first occurrence of a substring, the find() method can be used.\n",
    "\n",
    "sample_string = \"Learning Python with Python tutorials\"\n",
    "index_of_python = sample_string.find(\"Python\")\n",
    "print(\"First occurrence of 'Python':\", index_of_python)\n",
    "# Explanation: find() returns the lowest index where the substring \"Python\" begins."
   ]
  },
  {
   "cell_type": "code",
   "execution_count": null,
   "id": "8f5056a6",
   "metadata": {},
   "outputs": [],
   "source": [
    "# Question 2: Counting Substring Occurrences\n",
    "# The count() method returns the number of non-overlapping occurrences of a substring.\n",
    "\n",
    "sample_string = \"This is an island\"\n",
    "count_is = sample_string.count(\"is\")\n",
    "print(\"'is' appears:\", count_is, \"times\")\n",
    "# Explanation: count(\"is\") counts how many times \"is\" appears in the string."
   ]
  },
  {
   "cell_type": "code",
   "execution_count": null,
   "id": "9094e99a",
   "metadata": {},
   "outputs": [],
   "source": [
    "# Question 3: Checking String Start\n",
    "# The startswith() method checks if a string starts with a specified prefix.\n",
    "\n",
    "sample_string = \"Python programming is fun.\"\n",
    "starts_with_python = sample_string.startswith(\"Python\")\n",
    "print(\"Starts with 'Python':\", starts_with_python)\n",
    "# Explanation: startswith(\"Python\") returns True if the string starts with \"Python\"."
   ]
  },
  {
   "cell_type": "code",
   "execution_count": null,
   "id": "8f07d77c",
   "metadata": {},
   "outputs": [],
   "source": [
    "# Question 4: Reversing Words Order\n",
    "# To reverse the order of words in a sentence, split the string into words, reverse the list, then join it back into a string.\n",
    "\n",
    "sentence = \"Hello World Python\"\n",
    "reversed_order = \" \".join(sentence.split()[::-1])\n",
    "print(\"Reversed order of words:\", reversed_order)\n",
    "# Explanation: Splitting the string into a list of words, reversing it, and then joining back into a string."
   ]
  },
  {
   "cell_type": "code",
   "execution_count": null,
   "id": "c5109092",
   "metadata": {},
   "outputs": [],
   "source": [
    "# Question 5: Modifying Letter Case\n",
    "# To capitalize the first letter of each word, the title() method can be used.\n",
    "\n",
    "sample_string = \"hello world\"\n",
    "capitalized_string = sample_string.title()\n",
    "print(\"Capitalized:\", capitalized_string)\n",
    "# Explanation: title() transforms the first character of each word to uppercase."
   ]
  },
  {
   "cell_type": "code",
   "execution_count": null,
   "id": "49159be0",
   "metadata": {},
   "outputs": [],
   "source": [
    "# Question 6: Removing Leading Characters\n",
    "# To remove all leading characters (not just whitespace), the lstrip() method can be used.\n",
    "\n",
    "sample_string = \"0001234\"\n",
    "trimmed_string = sample_string.lstrip(\"0\")\n",
    "print(\"Trimmed leading zeros:\", trimmed_string)\n",
    "# Explanation: lstrip(\"0\") removes all leading \"0\" characters."
   ]
  },
  {
   "cell_type": "code",
   "execution_count": null,
   "id": "ef02f352",
   "metadata": {},
   "outputs": [],
   "source": [
    "# Question 7: Checking Digit Characters\n",
    "# To check if a string consists only of digit characters, the isdigit() method can be used.\n",
    "\n",
    "sample_string = \"12345\"\n",
    "all_digits = sample_string.isdigit()\n",
    "print(\"All digit characters:\", all_digits)\n",
    "# Explanation: isdigit() returns True if all characters in the string are digits."
   ]
  },
  {
   "cell_type": "code",
   "execution_count": null,
   "id": "4cf052f3",
   "metadata": {},
   "outputs": [],
   "source": [
    "# Question 8: Swapping Letter Case\n",
    "# To swap the case of all letters in a string, the swapcase() method can be used.\n",
    "\n",
    "sample_string = \"Python 3.9\"\n",
    "swapped_case_string = sample_string.swapcase()\n",
    "print(\"Swapped case string:\", swapped_case_string)\n",
    "# Explanation: swapcase() inverts the case of all letters."
   ]
  },
  {
   "cell_type": "code",
   "execution_count": null,
   "id": "dde09e53",
   "metadata": {},
   "outputs": [],
   "source": [
    "# Question 9: Joining with a Separator\n",
    "# To create a string from a collection of strings with a separator, the join() method is used.\n",
    "\n",
    "fruit_list = [\"apple\", \"banana\", \"cherry\"]\n",
    "comma_separated = \",\".join(fruit_list)\n",
    "print(\"Comma-separated string:\", comma_separated)\n",
    "# Explanation: join() concatenates elements with a comma."
   ]
  },
  {
   "cell_type": "code",
   "execution_count": null,
   "id": "d0cdf29e",
   "metadata": {},
   "outputs": [],
   "source": [
    "# Question 10: Stripping Substring from Ends\n",
    "# To remove specified characters from both the beginning and end of a string, strip() can be used.\n",
    "\n",
    "sample_string = \"xxHello Worldxx\"\n",
    "trimmed_string = sample_string.strip(\"x\")\n",
    "print(\"Trimmed string:\", trimmed_string)\n",
    "# Explanation: strip(\"x\") removes \"x\" characters from both ends of the string."
   ]
  }
 ],
 "metadata": {},
 "nbformat": 4,
 "nbformat_minor": 5
}
