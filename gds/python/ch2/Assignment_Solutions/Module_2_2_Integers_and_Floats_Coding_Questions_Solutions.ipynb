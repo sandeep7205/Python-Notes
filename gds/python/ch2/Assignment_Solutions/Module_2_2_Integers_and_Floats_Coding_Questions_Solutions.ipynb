{
 "cells": [
  {
   "cell_type": "markdown",
   "id": "4a0dc616",
   "metadata": {},
   "source": [
    "\n",
    "# Solutions for Module 2.2 Integers and Floats: Coding Questions\n",
    "\n",
    "This notebook contains solutions to coding questions about integers and floats in Python.\n"
   ]
  },
  {
   "cell_type": "code",
   "execution_count": null,
   "id": "103fdce2",
   "metadata": {},
   "outputs": [],
   "source": [
    "\n",
    "integer_division = 45 // 6\n",
    "remainder = 45 % 6\n",
    "print(\"Integer division:\", integer_division)\n",
    "print(\"Remainder:\", remainder)\n",
    "    "
   ]
  },
  {
   "cell_type": "code",
   "execution_count": null,
   "id": "bcc7fc2e",
   "metadata": {},
   "outputs": [],
   "source": [
    "\n",
    "rounded_number = round(7.654321, 2)\n",
    "print(\"Rounded number:\", rounded_number)\n",
    "    "
   ]
  },
  {
   "cell_type": "code",
   "execution_count": null,
   "id": "b18f7e43",
   "metadata": {},
   "outputs": [],
   "source": [
    "\n",
    "converted_integer = int(123.456)\n",
    "print(\"Converted to integer:\", converted_integer)\n",
    "    "
   ]
  },
  {
   "cell_type": "code",
   "execution_count": null,
   "id": "9bddb705",
   "metadata": {},
   "outputs": [],
   "source": [
    "\n",
    "absolute_value = abs(-20)\n",
    "print(\"Absolute value:\", absolute_value)\n",
    "    "
   ]
  },
  {
   "cell_type": "code",
   "execution_count": null,
   "id": "06c7db1a",
   "metadata": {},
   "outputs": [],
   "source": [
    "\n",
    "power_result = 2 ** 5\n",
    "print(\"2 raised to the power of 5:\", power_result)\n",
    "    "
   ]
  },
  {
   "cell_type": "code",
   "execution_count": null,
   "id": "da27b507",
   "metadata": {},
   "outputs": [],
   "source": [
    "\n",
    "# Direct comparison of floats can lead to unexpected results due to precision issues.\n",
    "# Example: 0.1 + 0.2 may not equal 0.3 exactly.\n",
    "# It's better to use a tolerance when comparing floats.\n",
    "    "
   ]
  },
  {
   "cell_type": "code",
   "execution_count": null,
   "id": "1ea66700",
   "metadata": {},
   "outputs": [],
   "source": [
    "\n",
    "one_billion = 1e9\n",
    "print(\"One billion:\", one_billion)\n",
    "    "
   ]
  },
  {
   "cell_type": "code",
   "execution_count": null,
   "id": "aa6db78d",
   "metadata": {},
   "outputs": [],
   "source": [
    "\n",
    "counter = 0\n",
    "while counter <= 10:\n",
    "    print(\"Counter:\", counter)\n",
    "    counter += 1\n",
    "    "
   ]
  },
  {
   "cell_type": "code",
   "execution_count": null,
   "id": "4a2c4aa8",
   "metadata": {},
   "outputs": [],
   "source": [
    "\n",
    "numbers = [23, 95, 40, 67]\n",
    "average = sum(numbers) / len(numbers)\n",
    "print(\"Average:\", average)\n",
    "    "
   ]
  },
  {
   "cell_type": "code",
   "execution_count": null,
   "id": "0b5216fb",
   "metadata": {},
   "outputs": [],
   "source": [
    "\n",
    "result = 0.1 + 0.2\n",
    "print(\"0.1 + 0.2 =\", result)\n",
    "# The output may not be exactly 0.3 due to how floating-point numbers are represented in binary.\n",
    "    "
   ]
  }
 ],
 "metadata": {},
 "nbformat": 4,
 "nbformat_minor": 5
}
