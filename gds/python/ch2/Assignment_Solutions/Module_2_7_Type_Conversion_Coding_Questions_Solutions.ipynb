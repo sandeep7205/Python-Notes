{
 "cells": [
  {
   "cell_type": "markdown",
   "id": "0e0e9fe5",
   "metadata": {},
   "source": [
    "\n",
    "# Complete Solutions for Module 2.7 Type Conversion: Coding Questions\n",
    "\n",
    "This notebook provides complete solutions for coding questions related to type conversion in Python.\n"
   ]
  },
  {
   "cell_type": "code",
   "execution_count": null,
   "id": "ce611841",
   "metadata": {},
   "outputs": [],
   "source": [
    "\n",
    "# Question 1: Converting Strings to Numbers\n",
    "int_num = int(\"123\")\n",
    "float_num = float(\"123.45\")\n",
    "print(int_num, float_num)\n"
   ]
  },
  {
   "cell_type": "code",
   "execution_count": null,
   "id": "2253afbc",
   "metadata": {},
   "outputs": [],
   "source": [
    "\n",
    "# Question 2: Numeric Operations on User Input\n",
    "# Note: input() function will not execute in this notebook environment, so we'll simulate user input.\n",
    "user_input1 = '3'  # Simulate input('Enter first number: ')\n",
    "user_input2 = '4'  # Simulate input('Enter second number: ')\n",
    "sum_result = int(user_input1) + int(user_input2)\n",
    "print(\"The sum is:\", sum_result)\n"
   ]
  },
  {
   "cell_type": "code",
   "execution_count": null,
   "id": "c68990cd",
   "metadata": {},
   "outputs": [],
   "source": [
    "\n",
    "# Question 3: Concatenating Numbers with Strings\n",
    "age = 25\n",
    "message = f\"You are {age} years old.\"\n",
    "print(message)\n"
   ]
  },
  {
   "cell_type": "code",
   "execution_count": null,
   "id": "c1652099",
   "metadata": {},
   "outputs": [],
   "source": [
    "\n",
    "# Question 4: Checking Conversion Possibility\n",
    "def can_convert_to_int(s):\n",
    "    try:\n",
    "        int(s)\n",
    "        return True\n",
    "    except ValueError:\n",
    "        return False\n",
    "\n",
    "print(can_convert_to_int(\"123\"))  # Should return True\n",
    "print(can_convert_to_int(\"abc\"))  # Should return False\n"
   ]
  },
  {
   "cell_type": "code",
   "execution_count": null,
   "id": "e03b80c8",
   "metadata": {},
   "outputs": [],
   "source": [
    "\n",
    "# Question 5: Implicit Type Conversion\n",
    "result = 3 + 2.5\n",
    "print(result, type(result))\n"
   ]
  },
  {
   "cell_type": "code",
   "execution_count": null,
   "id": "22769236",
   "metadata": {},
   "outputs": [],
   "source": [
    "\n",
    "# Question 6: Converting Lists to Strings\n",
    "words = ['Python', 'is', 'fun']\n",
    "sentence = ' '.join(words)\n",
    "print(sentence)\n"
   ]
  },
  {
   "cell_type": "code",
   "execution_count": null,
   "id": "a005f15f",
   "metadata": {},
   "outputs": [],
   "source": [
    "\n",
    "# Question 7: Type Conversion in Conditional Statements\n",
    "value = '0'\n",
    "if int(value):\n",
    "    print(\"True\")\n",
    "else:\n",
    "    print(\"False\")\n"
   ]
  },
  {
   "cell_type": "code",
   "execution_count": null,
   "id": "6f4df334",
   "metadata": {},
   "outputs": [],
   "source": [
    "\n",
    "# Question 8: Extracting Integers from a String\n",
    "string_with_numbers = \"123abc456\"\n",
    "filtered_numbers = int(''.join(filter(str.isdigit, string_with_numbers)))\n",
    "print(filtered_numbers)\n"
   ]
  },
  {
   "cell_type": "code",
   "execution_count": null,
   "id": "1bd89d5c",
   "metadata": {},
   "outputs": [],
   "source": [
    "\n",
    "# Question 9: Rounding Floats During Conversion\n",
    "float_num = 123.456\n",
    "rounded_int = round(float_num)\n",
    "print(rounded_int)\n"
   ]
  },
  {
   "cell_type": "code",
   "execution_count": null,
   "id": "94166cd3",
   "metadata": {},
   "outputs": [],
   "source": [
    "\n",
    "# Question 10: Parsing Boolean Values from Strings\n",
    "boolean_value = bool(\"True\")\n",
    "print(boolean_value)\n"
   ]
  }
 ],
 "metadata": {},
 "nbformat": 4,
 "nbformat_minor": 5
}
