{
 "cells": [
  {
   "cell_type": "code",
   "execution_count": 1,
   "id": "3c69d495",
   "metadata": {},
   "outputs": [
    {
     "name": "stdout",
     "output_type": "stream",
     "text": [
      "The two Boolean values in Python are: True and False\n"
     ]
    }
   ],
   "source": [
    "# Question 1: Boolean Values\n",
    "# In Python, the two Boolean values are True and False.\n",
    "# These represent the truth values in logical expressions.\n",
    "\n",
    "print(\"The two Boolean values in Python are:\", True, \"and\", False)"
   ]
  },
  {
   "cell_type": "code",
   "execution_count": 2,
   "id": "a24fe7d7",
   "metadata": {},
   "outputs": [
    {
     "name": "stdout",
     "output_type": "stream",
     "text": [
      "Result of True AND False: False\n"
     ]
    }
   ],
   "source": [
    "# Question 2: Boolean Operations\n",
    "# Perform the AND operation on the Boolean values True and False.\n",
    "# The AND operation returns True only if both operands are True.\n",
    "\n",
    "result_and = True and False\n",
    "print(\"Result of True AND False:\", result_and)"
   ]
  },
  {
   "cell_type": "code",
   "execution_count": 3,
   "id": "c9d65e2a",
   "metadata": {},
   "outputs": [
    {
     "name": "stdout",
     "output_type": "stream",
     "text": [
      "Result of False OR False: False\n"
     ]
    }
   ],
   "source": [
    "# Question 3: Boolean OR Operation\n",
    "# What is the result of the OR operation when both operands are False?\n",
    "# The OR operation returns True if at least one of the operands is True.\n",
    "\n",
    "result_or = False or False\n",
    "print(\"Result of False OR False:\", result_or)"
   ]
  },
  {
   "cell_type": "code",
   "execution_count": 4,
   "id": "f035e111",
   "metadata": {},
   "outputs": [
    {
     "name": "stdout",
     "output_type": "stream",
     "text": [
      "Result of NOT True: False\n"
     ]
    }
   ],
   "source": [
    "# Question 4: NOT Operation\n",
    "# What is the result of applying the NOT operation to True?\n",
    "# The NOT operation inverts the Boolean value.\n",
    "\n",
    "result_not = not True\n",
    "print(\"Result of NOT True:\", result_not)"
   ]
  },
  {
   "cell_type": "code",
   "execution_count": 5,
   "id": "ec898fe7",
   "metadata": {},
   "outputs": [
    {
     "name": "stdout",
     "output_type": "stream",
     "text": [
      "Is 10 greater than 2?: True\n"
     ]
    }
   ],
   "source": [
    "# Question 5: Comparison Operators\n",
    "# Use a comparison operator to determine if 10 is greater than 2.\n",
    "# The > operator compares two numbers and returns True if the first is greater than the second.\n",
    "\n",
    "is_greater = 10 > 2\n",
    "print(\"Is 10 greater than 2?:\", is_greater)"
   ]
  },
  {
   "cell_type": "code",
   "execution_count": 6,
   "id": "71c63dc6",
   "metadata": {},
   "outputs": [
    {
     "name": "stdout",
     "output_type": "stream",
     "text": [
      "a == b: True\n",
      "a is b: False\n"
     ]
    }
   ],
   "source": [
    "# Question 6: Equality and Identity\n",
    "# == checks for equality of value, whereas is checks for identity (if two variables point to the same object).\n",
    "# Example where the results differ:\n",
    "\n",
    "a = [1, 2, 3]  # a list\n",
    "b = [1, 2, 3]  # another list with the same contents\n",
    "print(\"a == b:\", a == b)  # True because the values are equal\n",
    "print(\"a is b:\", a is b)  # False because they are not the same object"
   ]
  },
  {
   "cell_type": "code",
   "execution_count": 7,
   "id": "a2f8c82c",
   "metadata": {},
   "outputs": [
    {
     "name": "stdout",
     "output_type": "stream",
     "text": [
      "Boolean value of 0: False\n"
     ]
    }
   ],
   "source": [
    "# Question 7: Boolean Conversion\n",
    "# Convert the integer 0 to a Boolean.\n",
    "# In Python, 0 is treated as False, and any other number is treated as True when converted to a Boolean.\n",
    "\n",
    "bool_zero = bool(0)\n",
    "print(\"Boolean value of 0:\", bool_zero)"
   ]
  },
  {
   "cell_type": "code",
   "execution_count": 8,
   "id": "ce579672",
   "metadata": {},
   "outputs": [
    {
     "name": "stdout",
     "output_type": "stream",
     "text": [
      "Yes\n"
     ]
    }
   ],
   "source": [
    "# Question 8: Using Booleans in Conditional Statements\n",
    "# Write a simple if statement that prints \"Yes\" if a = True and \"No\" otherwise.\n",
    "# An if statement directly evaluates a Boolean expression.\n",
    "\n",
    "a = True  # Change this to False to see the different output\n",
    "if a:\n",
    "    print(\"Yes\")\n",
    "else:\n",
    "    print(\"No\")"
   ]
  },
  {
   "cell_type": "code",
   "execution_count": 9,
   "id": "29c1f327",
   "metadata": {},
   "outputs": [
    {
     "name": "stdout",
     "output_type": "stream",
     "text": [
      "Non-empty list is considered: True\n"
     ]
    }
   ],
   "source": [
    "# Question 9: Truthiness of Non-Boolean Values\n",
    "# Examples of non-Boolean values treated as True in Python include non-empty collections, non-zero numbers, and non-None objects.\n",
    "# On the other hand, 0, None, and empty collections are treated as False.\n",
    "\n",
    "# Example:\n",
    "value = [1]  # This is a non-empty list, thus considered True in a Boolean context.\n",
    "if value:\n",
    "    print(\"Non-empty list is considered:\", bool(value))"
   ]
  },
  {
   "cell_type": "code",
   "execution_count": 10,
   "id": "acd5dfb7",
   "metadata": {},
   "outputs": [
    {
     "name": "stdout",
     "output_type": "stream",
     "text": [
      "False and (expression): False\n",
      "True or (expression): True\n"
     ]
    }
   ],
   "source": [
    "# Question 10: Short-circuiting in Logical Operations\n",
    "# Short-circuiting occurs when Python stops evaluating a logical expression as soon as the overall truth value is determined.\n",
    "# For AND, if the first operand is False, Python doesn't evaluate the second operand.\n",
    "# For OR, if the first operand is True, Python doesn't evaluate the second operand.\n",
    "\n",
    "# Examples:\n",
    "# AND short-circuiting\n",
    "print(\"False and (expression):\", False and (3 / 0))  # Does not raise a ZeroDivisionError\n",
    "\n",
    "# OR short-circuiting\n",
    "print(\"True or (expression):\", True or (3 / 0))  # Does not raise a ZeroDivisionError"
   ]
  }
 ],
 "metadata": {
  "kernelspec": {
   "display_name": "Python 3",
   "language": "python",
   "name": "python3"
  },
  "language_info": {
   "codemirror_mode": {
    "name": "ipython",
    "version": 3
   },
   "file_extension": ".py",
   "mimetype": "text/x-python",
   "name": "python",
   "nbconvert_exporter": "python",
   "pygments_lexer": "ipython3",
   "version": "3.13.0"
  }
 },
 "nbformat": 4,
 "nbformat_minor": 5
}
