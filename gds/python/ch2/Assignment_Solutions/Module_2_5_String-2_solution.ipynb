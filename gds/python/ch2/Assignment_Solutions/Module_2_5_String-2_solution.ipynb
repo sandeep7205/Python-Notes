{
 "cells": [
  {
   "cell_type": "code",
   "execution_count": null,
   "id": "c6418f20",
   "metadata": {},
   "outputs": [],
   "source": [
    "# Question 1: Accessing the First Character\n",
    "# The first character of a string can be accessed using indexing at position 0.\n",
    "\n",
    "sample_string = \"Hello world\"\n",
    "first_character = sample_string[0]\n",
    "print(\"First character:\", first_character)\n",
    "# Explanation: Indexing starts at 0, so sample_string[0] gives the first character."
   ]
  },
  {
   "cell_type": "code",
   "execution_count": null,
   "id": "95820b9d",
   "metadata": {},
   "outputs": [],
   "source": [
    "# Question 2: Accessing the Last Character\n",
    "# The last character of a string can be accessed using negative indexing, e.g., -1.\n",
    "\n",
    "sample_string = \"Goodbye\"\n",
    "last_character = sample_string[-1]\n",
    "print(\"Last character:\", last_character)\n",
    "# Explanation: Negative indexing starts from the end, so -1 refers to the last character."
   ]
  },
  {
   "cell_type": "code",
   "execution_count": null,
   "id": "0cf25b5b",
   "metadata": {},
   "outputs": [],
   "source": [
    "# Question 3: Slicing a Substring\n",
    "# A substring can be extracted using slicing, specifying start and end indices.\n",
    "\n",
    "phrase = \"Hello world\"\n",
    "hello = phrase[0:5]\n",
    "print(\"Extracted substring:\", hello)\n",
    "# Explanation: Slicing from 0 to 5 extracts \"Hello\"."
   ]
  },
  {
   "cell_type": "code",
   "execution_count": null,
   "id": "aad9e6e8",
   "metadata": {},
   "outputs": [],
   "source": [
    "# Question 4: Reversing a String\n",
    "# A string can be reversed using slicing with a step of -1.\n",
    "\n",
    "sample_string = \"Python\"\n",
    "reversed_string = sample_string[::-1]\n",
    "print(\"Reversed string:\", reversed_string)\n",
    "# Explanation: Slicing with a step of -1 reverses the string."
   ]
  },
  {
   "cell_type": "code",
   "execution_count": null,
   "id": "f3b75cf1",
   "metadata": {},
   "outputs": [],
   "source": [
    "# Question 5: Skipping Characters in a Slice\n",
    "# Every other letter can be extracted using a step in the slice notation.\n",
    "\n",
    "sample_string = \"abcdefghijk\"\n",
    "every_other_letter = sample_string[::2]\n",
    "print(\"Every other letter:\", every_other_letter)\n",
    "# Explanation: The step parameter 2 in slicing skips every other character."
   ]
  },
  {
   "cell_type": "code",
   "execution_count": null,
   "id": "872b7cd5",
   "metadata": {},
   "outputs": [],
   "source": [
    "# Question 6: Default Values in Slicing\n",
    "# Omitting the start or end index in slicing uses default values for the beginning or end of the string.\n",
    "\n",
    "phrase = \"Hello world\"\n",
    "first_five = phrase[:5]\n",
    "after_three = phrase[3:]\n",
    "print(\"First five characters:\", first_five)\n",
    "print(\"After the third character:\", after_three)\n",
    "# Explanation: [:5] slices from the beginning to index 4, and [3:] slices from index 3 to the end."
   ]
  },
  {
   "cell_type": "code",
   "execution_count": null,
   "id": "1bdf54ca",
   "metadata": {},
   "outputs": [],
   "source": [
    "# Question 7: Negative Indices in Slicing\n",
    "# Negative indices can be used to slice from the end of the string.\n",
    "\n",
    "phrase = \"Hello world\"\n",
    "world = phrase[-5:]\n",
    "print(\"Extracted word:\", world)\n",
    "# Explanation: Negative indices count backwards, so -5: slices the last five characters."
   ]
  },
  {
   "cell_type": "code",
   "execution_count": null,
   "id": "0202ff67",
   "metadata": {},
   "outputs": [],
   "source": [
    "# Question 8: Length of a Slice\n",
    "# The length of a slice can be determined using the len() function.\n",
    "\n",
    "hello = \"Hello world\"[:5]\n",
    "length_of_hello = len(hello)\n",
    "print(\"Length of 'Hello':\", length_of_hello)\n",
    "# Explanation: len() calculates the number of characters in the slice."
   ]
  },
  {
   "cell_type": "code",
   "execution_count": null,
   "id": "b13915fb",
   "metadata": {},
   "outputs": [],
   "source": [
    "# Question 9: Slicing with Out-of-range Indices\n",
    "# Using out-of-range indices in slicing does not throw an error; Python handles it gracefully.\n",
    "\n",
    "short_string = \"Short\"\n",
    "slice_out_of_range = short_string[0:100]\n",
    "print(\"Slice with out-of-range index:\", slice_out_of_range)\n",
    "# Explanation: Python slices up to the end of the string without errors, even if the end index is out of range."
   ]
  },
  {
   "cell_type": "code",
   "execution_count": null,
   "id": "a6130dea",
   "metadata": {},
   "outputs": [],
   "source": [
    "# Question 10: Immutable Strings Modification Attempt\n",
    "# Attempting to change a character in a string through indexing is not possible due to string immutability.\n",
    "\n",
    "# sample_string = \"Python\"\n",
    "# sample_string[0] = \"J\"  # This would raise a TypeError because strings are immutable.\n",
    "\n",
    "# Explanation: Since strings are immutable, attempting to change them directly through indexing results in an error."
   ]
  }
 ],
 "metadata": {},
 "nbformat": 4,
 "nbformat_minor": 5
}
