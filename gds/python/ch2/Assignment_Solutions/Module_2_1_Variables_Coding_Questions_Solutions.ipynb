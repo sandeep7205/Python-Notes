{
 "cells": [
  {
   "cell_type": "markdown",
   "id": "444bb2f7",
   "metadata": {},
   "source": [
    "\n",
    "# Solutions for Module 2.1 Variables: Coding Questions\n",
    "\n",
    "This notebook contains solutions to coding questions about variables, arithmetic operations, type conversion, string concatenation, updating variables, boolean variables, variable names, swapping values, user input, and dynamic typing in Python.\n"
   ]
  },
  {
   "cell_type": "code",
   "execution_count": null,
   "id": "a5981945",
   "metadata": {},
   "outputs": [],
   "source": [
    "\n",
    "days_in_week = 7\n",
    "print(days_in_week)\n",
    "    "
   ]
  },
  {
   "cell_type": "code",
   "execution_count": null,
   "id": "c92c22bc",
   "metadata": {},
   "outputs": [],
   "source": [
    "\n",
    "a = 15\n",
    "b = 4\n",
    "print(\"Sum:\", a + b)\n",
    "print(\"Difference:\", a - b)\n",
    "print(\"Product:\", a * b)\n",
    "print(\"Quotient:\", a / b)\n",
    "    "
   ]
  },
  {
   "cell_type": "code",
   "execution_count": null,
   "id": "40062a27",
   "metadata": {},
   "outputs": [],
   "source": [
    "\n",
    "number = int(\"123\")\n",
    "print(type(number))\n",
    "    "
   ]
  },
  {
   "cell_type": "code",
   "execution_count": null,
   "id": "b71d2ebb",
   "metadata": {},
   "outputs": [],
   "source": [
    "\n",
    "first_name = \"John\"\n",
    "last_name = \"Doe\"\n",
    "full_name = first_name + \" \" + last_name\n",
    "print(full_name)\n",
    "    "
   ]
  },
  {
   "cell_type": "code",
   "execution_count": null,
   "id": "42b4891a",
   "metadata": {},
   "outputs": [],
   "source": [
    "\n",
    "score = 0\n",
    "score += 5\n",
    "score *= 3\n",
    "score -= 2\n",
    "print(score)\n",
    "    "
   ]
  },
  {
   "cell_type": "code",
   "execution_count": null,
   "id": "1a6cbd6a",
   "metadata": {},
   "outputs": [],
   "source": [
    "\n",
    "is_sunny = True\n",
    "print(is_sunny)\n",
    "    "
   ]
  },
  {
   "cell_type": "code",
   "execution_count": null,
   "id": "a626912a",
   "metadata": {},
   "outputs": [],
   "source": [
    "\n",
    "# The invalid variable name is: b) 3_python\n",
    "# Explanation: Variable names cannot start with a number.\n",
    "    "
   ]
  },
  {
   "cell_type": "code",
   "execution_count": null,
   "id": "b8d2d6e8",
   "metadata": {},
   "outputs": [],
   "source": [
    "\n",
    "x = 10\n",
    "y = 5\n",
    "x, y = y, x\n",
    "print(\"x:\", x, \"y:\", y)\n",
    "    "
   ]
  },
  {
   "cell_type": "code",
   "execution_count": null,
   "id": "05a732d1",
   "metadata": {},
   "outputs": [],
   "source": [
    "\n",
    "# Note: Execution of input() is not supported in this notebook environment. Sample code is provided.\n",
    "# name = input(\"Enter your name: \")\n",
    "# age = int(input(\"Enter your age: \"))\n",
    "# print(\"Hello\", name + \". You are\", age, \"years old.\")\n",
    "    "
   ]
  },
  {
   "cell_type": "code",
   "execution_count": null,
   "id": "36184339",
   "metadata": {},
   "outputs": [],
   "source": [
    "\n",
    "data = 10\n",
    "print(type(data))\n",
    "data = \"Hello\"\n",
    "print(type(data))\n",
    "    "
   ]
  }
 ],
 "metadata": {},
 "nbformat": 4,
 "nbformat_minor": 5
}
